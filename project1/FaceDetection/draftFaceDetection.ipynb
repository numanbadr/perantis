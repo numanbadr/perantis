{
 "cells": [
  {
   "cell_type": "code",
   "execution_count": 2,
   "id": "3c873817-837f-4dcb-9e2d-b410430be25f",
   "metadata": {},
   "outputs": [],
   "source": [
    "import numpy as np\n",
    "import cv2 as cv\n",
    "import matplotlib.pyplot as plt\n",
    "\n",
    "# Define functions for colour mode conversion\n",
    "\n",
    "def BGR2RGB(img):\n",
    "    return img[:,:,::-1]\n",
    "\n",
    "def BGR2GRAY(img):\n",
    "    img = cv.cvtColor(img, cv.COLOR_BGR2GRAY)\n",
    "    return img\n",
    "\n",
    "def GRAY2RGB(img):\n",
    "    img = cv.cvtColor(img, cv.COLOR_GRAY2RGB)\n",
    "    return img\n"
   ]
  },
  {
   "cell_type": "code",
   "execution_count": 83,
   "id": "a471062f-1739-44dc-b5eb-ffdde53614cd",
   "metadata": {},
   "outputs": [
    {
     "name": "stdout",
     "output_type": "stream",
     "text": [
      "(1080, 1920, 3)\n"
     ]
    },
    {
     "data": {
      "text/plain": [
       "<Figure size 1440x720 with 0 Axes>"
      ]
     },
     "metadata": {},
     "output_type": "display_data"
    }
   ],
   "source": [
    "path = '../../samples/data/face1.jpg'\n",
    "img = cv.imread(path)\n",
    "\n",
    "if img is None:\n",
    "    sys.exit(\"Could not read the image.\")\n",
    "\n",
    "imgGray = BGR2GRAY(img)\n",
    "# load cascade model classifier\n",
    "haarPath = \"../../samples/data/haarcascade_frontalface_alt2.xml\"\n",
    "cascade = cv.CascadeClassifier(haarPath)\n",
    "\n",
    "# detect faces as list of rectangles\n",
    "faces = cascade.detectMultiScale(imgGray,1.1,5)\n",
    "\n",
    "# using getFacesHAAR\n",
    "retval, facesModelAlt2 = cv.face.getFacesHAAR(img, haarPath)\n",
    "faceModel = np.squeeze(facesModelAlt2)\n",
    "\n",
    "# show\n",
    "fig = plt.figure(figsize=(20,10))\n",
    "# imgRGB = imgFace[:,:,::-1]\n",
    "# plt.imshow(imgRGB)\n",
    "\n",
    "imgFace = img.copy()\n",
    "\n",
    "color = (0, 255, 255)\n",
    "thick = 2\n",
    "for (x, y, w, h) in faces:\n",
    "    cv.rectangle(img, (x, y), (x+w, y+h), color, thick)\n",
    "    \n",
    "# BGR to RGB\n",
    "print(img.shape)\n",
    "cv.imshow('img', img)\n",
    "cv.waitKey()\n",
    "cv.destroyAllWindows()\n",
    "\n",
    "# imgRGB = img[:,:,::-1]\n",
    "# plt.imshow(imgRGB)\n",
    "# plt.axis('off')\n",
    "# plt.show()\n"
   ]
  },
  {
   "cell_type": "code",
   "execution_count": 128,
   "id": "9506515d-83a3-435e-a542-de10273f48ce",
   "metadata": {},
   "outputs": [
    {
     "name": "stdout",
     "output_type": "stream",
     "text": [
      "lol\n"
     ]
    }
   ],
   "source": [
    "ext = ['png', 'jpg']\n",
    "ext2 = ['mp4', 'avi']\n",
    "test = 'sdfepngjpgdmp4s'\n",
    "\n",
    "if test[-3:] in ext:\n",
    "    print('hahau')\n",
    "if test[-3:] in ext2:\n",
    "    print('booohooo')\n",
    "else:\n",
    "    print('lol')"
   ]
  },
  {
   "cell_type": "code",
   "execution_count": 119,
   "id": "87dd55ff-baee-4cb4-b8e7-1403b6a1295a",
   "metadata": {},
   "outputs": [],
   "source": [
    "# Live video face detection\n",
    "\n",
    "# Load the cascade\n",
    "face_cascade = cv.CascadeClassifier('../../samples/data/haarcascade_frontalface_alt2.xml')\n",
    "\n",
    "# To capture video from webcam. \n",
    "cap = cv.VideoCapture(0)\n",
    "# To use a video file as input \n",
    "# cap = cv2.VideoCapture('filename.mp4')\n",
    "\n",
    "while True:\n",
    "    # Read the frame\n",
    "    _, img = cap.read()\n",
    "    \n",
    "    # Convert to grayscale\n",
    "    gray = cv.cvtColor(img, cv.COLOR_BGR2GRAY)\n",
    "    # Detect the faces\n",
    "    faces = face_cascade.detectMultiScale(gray, 1.1, 7)\n",
    "    \n",
    "    # Draw the rectangle around each face\n",
    "    for (x, y, w, h) in faces:\n",
    "        cv.rectangle(img, (x, y), (x+w, y+h), (0,255,255), 2)\n",
    "        \n",
    "    # Display\n",
    "    cv.imshow('img', img)\n",
    "    # Stop if escape key is pressed\n",
    "    k = cv.waitKey(30) \n",
    "    if k==ord('q') & 0xff :\n",
    "        break\n",
    "# Release the VideoCapture object\n",
    "cap.release()\n",
    "cv.destroyAllWindows()\n"
   ]
  },
  {
   "cell_type": "code",
   "execution_count": 124,
   "id": "b0d2ce2e-af2a-403e-9700-787953989fef",
   "metadata": {},
   "outputs": [
    {
     "name": "stdout",
     "output_type": "stream",
     "text": [
      "Frame per seconds: 20.00 fps\n",
      "Video W x H: 640.0 x 480.0 px\n",
      "Frame count: 72.0\n",
      "Frame delay: 3.60 ms\n",
      "Frame stopped.\n"
     ]
    }
   ],
   "source": [
    "import sys\n",
    "import cv2 as cv\n",
    "\n",
    "filePath = 'vid.avi'\n",
    "face_cascade = cv.CascadeClassifier('../../samples/data/haarcascade_frontalface_alt2.xml')\n",
    "\n",
    "# Read video from path\n",
    "capture = cv.VideoCapture(filePath)\n",
    "\n",
    "# Check if connected\n",
    "if capture.isOpened() is False:\n",
    "    print(\"Error opening camera 0\")\n",
    "    exit()\n",
    "\n",
    "# Get and print video information\n",
    "frame_width = capture.get(cv.CAP_PROP_FRAME_WIDTH)\n",
    "frame_height = capture.get(cv.CAP_PROP_FRAME_HEIGHT)\n",
    "fps = capture.get(cv.CAP_PROP_FPS)\n",
    "frame_count = capture.get(cv.CAP_PROP_FRAME_COUNT)\n",
    "frame_delay = frame_count/fps\n",
    "\n",
    "print(f'Frame per seconds: {fps:.2f} fps')\n",
    "print(f'Video W x H: {frame_width} x {frame_height} px')\n",
    "print(f'Frame count: {frame_count}')\n",
    "print(f'Frame delay: {frame_delay:.2f} ms')\n",
    "\n",
    "while capture.isOpened():\n",
    "    # Capture frames, if read correctly ret is True\n",
    "    ret, frame = capture.read()\n",
    "\n",
    "    # If no frame is returned, stop the loop\n",
    "    if not ret:\n",
    "        print(\"Frame stopped.\")\n",
    "        break\n",
    "        \n",
    "    gray = cv.cvtColor(frame, cv.COLOR_BGR2GRAY)\n",
    "    faces = face_cascade.detectMultiScale(gray, 1.1, 7)\n",
    "    # Draw the rectangle around each face\n",
    "    for (x, y, w, h) in faces:\n",
    "        cv.rectangle(frame, (x, y), (x+w, y+h), (0, 255, 255), 2)\n",
    "        \n",
    "    # Show video\n",
    "    cv.imshow(\"Camera frame\", frame)\n",
    "\n",
    "    # Set frame delay\n",
    "    k = cv.waitKey(1)\n",
    "\n",
    "    # Check if key is q then exit\n",
    "    if k == ord(\"q\"):\n",
    "        break\n",
    "\n",
    "# Close the video\n",
    "capture.release()\n",
    "cv.destroyAllWindows()\n"
   ]
  },
  {
   "cell_type": "code",
   "execution_count": 127,
   "id": "c597654f-59f0-4977-bd87-ab6807eebb14",
   "metadata": {},
   "outputs": [],
   "source": [
    "import cv2 as cv\n",
    "\n",
    "\n",
    "capture = cv.VideoCapture(0)\n",
    "# check if connected\n",
    "if capture.isOpened() is False:\n",
    "    print(\"Error opening camera 0\")\n",
    "    exit()\n",
    "\n",
    "while capture.isOpened():\n",
    "    # capture frames, if read correctly ret is True\n",
    "    ret, frame = capture.read()\n",
    "\n",
    "    if not ret:\n",
    "        print(\"Didn't receive frame. Stop \")\n",
    "        break\n",
    "\n",
    "    \n",
    "    gray = cv.cvtColor(frame, cv.COLOR_BGR2GRAY)\n",
    "    faces = face_cascade.detectMultiScale(gray, 1.1, 7)\n",
    "    # Draw the rectangle around each face\n",
    "    for (x, y, w, h) in faces:\n",
    "        cv.rectangle(frame, (x, y), (x+w, y+h), (0, 255, 255), 2)\n",
    "        \n",
    "    # display frame\n",
    "    cv.imshow(\"Camera frame\", frame)\n",
    "\n",
    "    k = cv.waitKey(1)\n",
    "\n",
    "    # check if key is s then save frame\n",
    "    if k == ord(\"s\"):\n",
    "        # save color frame\n",
    "        cv.imwrite('frame.png', frame)\n",
    "\n",
    "    # check if key is q then exit\n",
    "    if k == ord(\"q\"):\n",
    "        break\n",
    "\n",
    "capture.release()\n",
    "cv.destroyAllWindows()\n",
    "\n"
   ]
  }
 ],
 "metadata": {
  "kernelspec": {
   "display_name": "Python 3",
   "language": "python",
   "name": "python3"
  },
  "language_info": {
   "codemirror_mode": {
    "name": "ipython",
    "version": 3
   },
   "file_extension": ".py",
   "mimetype": "text/x-python",
   "name": "python",
   "nbconvert_exporter": "python",
   "pygments_lexer": "ipython3",
   "version": "3.8.8"
  }
 },
 "nbformat": 4,
 "nbformat_minor": 5
}
