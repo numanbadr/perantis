{
 "cells": [
  {
   "cell_type": "code",
   "execution_count": 1,
   "id": "33f1f765-0093-4c57-bae9-fa26bf681d16",
   "metadata": {},
   "outputs": [],
   "source": [
    "import numpy as np\n",
    "import cv2 as cv\n",
    "import matplotlib.pyplot as plt\n",
    "import random"
   ]
  },
  {
   "cell_type": "code",
   "execution_count": 4,
   "id": "3e54214f-5f76-4508-96f9-0d6880c34e62",
   "metadata": {},
   "outputs": [
    {
     "name": "stdin",
     "output_type": "stream",
     "text": [
      "input number: 12 34\n"
     ]
    },
    {
     "name": "stdout",
     "output_type": "stream",
     "text": [
      "['12', '34']\n",
      "[12, 34]\n"
     ]
    }
   ],
   "source": [
    "np.random.seed(2)\n",
    "\n",
    "# number = list(map(int,input('Input number:').strip().split()))\n",
    "number = input('input number:').strip().split()\n",
    "\n",
    "random_ls = []\n",
    "# if number == 'random':\n",
    "#     for i in range(0,5):\n",
    "#         n = random.randint(0, 999)\n",
    "#         random_ls.append(n)\n",
    "#         print(random_ls)\n",
    "# else:\n",
    "print(number)\n",
    "number_ls = [int(i) for i in number]\n",
    "\n",
    "print(number_ls)\n",
    "# print(number_ls[0])\n",
    "\n",
    "# for i in range(len(number_ls)):\n",
    "#     if len(str(number_ls[i])) > 1:\n",
    "#         number_split = list(str(number_ls[i]))\n",
    "#         print(len(str(number_ls[i])))\n",
    "#         print(number_split)"
   ]
  },
  {
   "cell_type": "code",
   "execution_count": 14,
   "id": "8b0284ce-4f0a-44e8-9397-20a946e94b01",
   "metadata": {},
   "outputs": [
    {
     "name": "stdin",
     "output_type": "stream",
     "text": [
      "input number: random\n"
     ]
    },
    {
     "name": "stdout",
     "output_type": "stream",
     "text": [
      "['random']\n"
     ]
    }
   ],
   "source": [
    "number = input('input number:').strip().split()\n",
    "\n",
    "if number[0] == 'random':\n",
    "    print(number)"
   ]
  },
  {
   "cell_type": "code",
   "execution_count": 4,
   "id": "771ed656-dd19-4b22-b8d6-a20afde4f086",
   "metadata": {},
   "outputs": [
    {
     "name": "stdout",
     "output_type": "stream",
     "text": [
      "[219, 489, 697, 661, 154]\n"
     ]
    }
   ],
   "source": [
    "numbers_ls = []\n",
    "for i in range(0,5):\n",
    "    n = random.randint(0, 999)\n",
    "    numbers_ls.append(n)\n",
    "\n",
    "print(numbers_ls)"
   ]
  },
  {
   "cell_type": "code",
   "execution_count": 13,
   "id": "2c514b4c-c35f-4c7e-8071-7597d71509dd",
   "metadata": {},
   "outputs": [
    {
     "name": "stdout",
     "output_type": "stream",
     "text": [
      "(1000, 2000)\n",
      "digits (5000, 20, 20)\n",
      "labels (5000,)\n",
      "features (5000, 400)\n",
      "featureTrain (3333, 400)\n",
      "featureTest (1667, 400)\n",
      "labelTrain (3333,)\n",
      "labelTest (1667,)\n",
      "Training KNN model\n",
      "Accuracy k = 4: 93.94121175764847\n"
     ]
    }
   ],
   "source": [
    "# Train and Test knn Model\n",
    "\n",
    "import cv2 as cv\n",
    "import matplotlib.pyplot as plt\n",
    "import numpy as np\n",
    "\n",
    "filename = \"digits.png\"\n",
    "imgGray = cv.imread(filename, cv.IMREAD_GRAYSCALE)\n",
    "\n",
    "print(imgGray.shape)\n",
    "\n",
    "#### get all the digits\n",
    "IMG_SIZE = 20\n",
    "\n",
    "rowNum = imgGray.shape[0] / IMG_SIZE\n",
    "colNum = imgGray.shape[1] / IMG_SIZE\n",
    "\n",
    "rows = np.vsplit(imgGray, rowNum)\n",
    "\n",
    "digits = []\n",
    "for row in rows:\n",
    "    rowCells = np.hsplit(row, colNum)\n",
    "    for digit in rowCells:\n",
    "        digits.append(digit)\n",
    "\n",
    "# convert list to np.array\n",
    "digits = np.array(digits)\n",
    "print(\"digits\", digits.shape)\n",
    "\n",
    "# labels\n",
    "DIGITS_CLASS = 10\n",
    "repeatNum = len(digits) / DIGITS_CLASS\n",
    "labels = np.repeat(np.arange(DIGITS_CLASS), repeatNum)\n",
    "print(\"labels\", labels.shape)\n",
    "\n",
    "#### get features\n",
    "features = []\n",
    "for digit in digits:\n",
    "    img_pixel = np.float32(digit.flatten())\n",
    "    features.append(img_pixel)\n",
    "\n",
    "features = np.squeeze(features)\n",
    "print(\"features\", features.shape)\n",
    "\n",
    "# shuffle features and labels\n",
    "# seed random for constant random value\n",
    "rand = np.random.RandomState(321)\n",
    "shuffle = rand.permutation(features.shape[0])\n",
    "features, labels = features[shuffle], labels[shuffle]\n",
    "\n",
    "# split into training and testing\n",
    "splitRatio = [2, 1]\n",
    "sumRatio = sum(splitRatio)\n",
    "partition = np.array(splitRatio) * len(features) // sumRatio\n",
    "partition = np.cumsum(partition)\n",
    "\n",
    "featureTrain, featureTest = np.array_split(features, partition[:-1])\n",
    "labelTrain, labelTest = np.array_split(labels, partition[:-1])\n",
    "\n",
    "print(\"featureTrain\", featureTrain.shape)\n",
    "print(\"featureTest\", featureTest.shape)\n",
    "print(\"labelTrain\", labelTrain.shape)\n",
    "print(\"labelTest\", labelTest.shape)\n",
    "\n",
    "# Train the KNN model:\n",
    "print(\"Training KNN model\")\n",
    "knn = cv.ml.KNearest_create()\n",
    "knn.train(featureTrain, cv.ml.ROW_SAMPLE, labelTrain)\n",
    "\n",
    "# Test the created model:\n",
    "k=4\n",
    "ret, prediction, neighbours, dist = knn.findNearest(featureTest, k)\n",
    "\n",
    "# Compute the accuracy:\n",
    "accuracy = (np.squeeze(prediction) == labelTest).mean() * 100\n",
    "print(\"Accuracy k = {}: {}\".format(k, accuracy))"
   ]
  },
  {
   "cell_type": "code",
   "execution_count": 211,
   "id": "f2bea5c0-3821-4369-997b-d0cbce597543",
   "metadata": {},
   "outputs": [
    {
     "name": "stdin",
     "output_type": "stream",
     "text": [
      "input number: 34 7852 0 2 3\n"
     ]
    },
    {
     "name": "stdout",
     "output_type": "stream",
     "text": [
      "['34', '7852', '0', '2', '3']\n",
      "[34, 7852, 0, 2, 3]\n",
      "[3, 4]\n",
      "[7, 8, 5, 2]\n",
      "[0]\n",
      "[2]\n",
      "[3]\n"
     ]
    }
   ],
   "source": [
    "np.random.seed(2)\n",
    "\n",
    "# number = list(map(int,input('Input number:').strip().split()))\n",
    "number = input('input number:').strip().split()\n",
    "print(number)\n",
    "number_ls = [int(i) for i in number]\n",
    "\n",
    "print(number_ls)\n",
    "# print(number_ls[0])\n",
    "\n",
    "number_split_ls = []\n",
    "\n",
    "for i in range(len(number_ls)):\n",
    "#     if len(str(number_ls[i])) > 1:\n",
    "    number_split = [int(i) for i in list(str(number_ls[i]))]\n",
    "    number_split_ls.append(number_split)\n",
    "#         print(len(str(number_ls[i])))\n",
    "    print(number_split_ls[i])"
   ]
  },
  {
   "cell_type": "code",
   "execution_count": 242,
   "id": "d5f640aa-1cf8-4073-abc0-9232b644989e",
   "metadata": {},
   "outputs": [
    {
     "data": {
      "text/plain": [
       "4"
      ]
     },
     "execution_count": 242,
     "metadata": {},
     "output_type": "execute_result"
    }
   ],
   "source": [
    "number_split_ls[0][1]"
   ]
  },
  {
   "cell_type": "code",
   "execution_count": 282,
   "id": "55026aaa-c319-4d99-b3cf-b6c579ba3b79",
   "metadata": {},
   "outputs": [
    {
     "name": "stdout",
     "output_type": "stream",
     "text": [
      "[3, 4]\n"
     ]
    },
    {
     "data": {
      "image/png": "[encoded data removed]",
      "text/plain": [
       "<Figure size 360x144 with 2 Axes>"
      ]
     },
     "metadata": {
      "needs_background": "light"
     },
     "output_type": "display_data"
    },
    {
     "name": "stdout",
     "output_type": "stream",
     "text": [
      "[7, 8, 5, 2]\n"
     ]
    },
    {
     "data": {
      "image/png": "[encoded data removed]",
      "text/plain": [
       "<Figure size 432x288 with 4 Axes>"
      ]
     },
     "metadata": {
      "needs_background": "light"
     },
     "output_type": "display_data"
    },
    {
     "name": "stdout",
     "output_type": "stream",
     "text": [
      "[0]\n"
     ]
    },
    {
     "data": {
      "image/png": "[encoded data removed]",
      "text/plain": [
       "<Figure size 432x288 with 1 Axes>"
      ]
     },
     "metadata": {
      "needs_background": "light"
     },
     "output_type": "display_data"
    },
    {
     "name": "stdout",
     "output_type": "stream",
     "text": [
      "[2]\n"
     ]
    },
    {
     "data": {
      "image/png": "[encoded data removed]",
      "text/plain": [
       "<Figure size 432x288 with 1 Axes>"
      ]
     },
     "metadata": {
      "needs_background": "light"
     },
     "output_type": "display_data"
    },
    {
     "name": "stdout",
     "output_type": "stream",
     "text": [
      "[3]\n"
     ]
    },
    {
     "data": {
      "image/png": "[encoded data removed]",
      "text/plain": [
       "<Figure size 432x288 with 1 Axes>"
      ]
     },
     "metadata": {
      "needs_background": "light"
     },
     "output_type": "display_data"
    }
   ],
   "source": [
    "plt.figure(figsize=(5,2))\n",
    "\n",
    "for i in range(len(number_split_ls)):\n",
    "    for number in range(len(number_split_ls[i])):\n",
    "    \n",
    "        ind = np.where(prediction==number_split_ls[i][number])\n",
    "\n",
    "        r_ind = random.choice(ind[0]).astype(int)\n",
    "#         print('number:', number_split_ls[i][number])\n",
    "        \n",
    "#         print(r_ind)\n",
    "#         print(len(number_split_ls[i]))\n",
    "        \n",
    "        ft = featureTest.reshape((-1,20,20)) \n",
    "        img = ft[r_ind]\n",
    "#         img_ls = img.append(img)\n",
    "\n",
    "        a,b = 1, len(number_split_ls[i])\n",
    "        \n",
    "        plt.subplot(a,b,number+1)\n",
    "        plt.imshow(img)\n",
    "        plt.axis('off')\n",
    "    \n",
    "    print(number_split_ls[i])\n",
    "    plt.tight_layout()\n",
    "    plt.show()    \n"
   ]
  },
  {
   "cell_type": "code",
   "execution_count": 285,
   "id": "aafa4737-110d-4b44-90f3-56b811a368ae",
   "metadata": {},
   "outputs": [
    {
     "ename": "IndexError",
     "evalue": "too many indices for array: array is 2-dimensional, but 3 were indexed",
     "output_type": "error",
     "traceback": [
      "\u001b[1;31m---------------------------------------------------------------------------\u001b[0m",
      "\u001b[1;31mIndexError\u001b[0m                                Traceback (most recent call last)",
      "\u001b[1;32m<ipython-input-285-04982d672744>\u001b[0m in \u001b[0;36m<module>\u001b[1;34m\u001b[0m\n\u001b[1;32m----> 1\u001b[1;33m \u001b[0mfeatureTest\u001b[0m\u001b[1;33m[\u001b[0m\u001b[1;33m:\u001b[0m\u001b[1;33m,\u001b[0m\u001b[1;33m:\u001b[0m\u001b[1;33m,\u001b[0m\u001b[1;33m:\u001b[0m\u001b[1;33m:\u001b[0m\u001b[1;33m-\u001b[0m\u001b[1;36m1\u001b[0m\u001b[1;33m]\u001b[0m\u001b[1;33m\u001b[0m\u001b[1;33m\u001b[0m\u001b[0m\n\u001b[0m",
      "\u001b[1;31mIndexError\u001b[0m: too many indices for array: array is 2-dimensional, but 3 were indexed"
     ]
    }
   ],
   "source": [
    "featureTest[:,:,::-1]"
   ]
  },
  {
   "cell_type": "code",
   "execution_count": 212,
   "id": "1e75ec30-a708-4f52-8807-42eadb91da15",
   "metadata": {},
   "outputs": [
    {
     "name": "stdout",
     "output_type": "stream",
     "text": [
      "number: 1\n",
      "number: 7\n",
      "number: 1\n",
      "number: 5\n",
      "number: 7\n",
      "number: 9\n",
      "number: 4\n"
     ]
    },
    {
     "data": {
      "image/png": "[encoded data removed]",
      "text/plain": [
       "<Figure size 720x360 with 7 Axes>"
      ]
     },
     "metadata": {
      "needs_background": "light"
     },
     "output_type": "display_data"
    }
   ],
   "source": [
    "t = [1,7,1,5,7,9,4]\n",
    "match = []\n",
    "a,b = 1, len(t)\n",
    "\n",
    "plt.figure(figsize=(10,5))\n",
    "for numbers in range(len(t)):\n",
    "    ind = np.where(prediction==t[numbers])\n",
    "#     int(ind)\n",
    "       \n",
    "    r_ind = random.choice(ind[0]).astype(int)\n",
    "#     print(ind[0])\n",
    "    print('number:', t[numbers])\n",
    "    ft = featureTest.reshape((-1,20,20)) \n",
    "    img = ft[r_ind]\n",
    "    plt.subplot(a,b, numbers+1)  \n",
    "    \n",
    "    plt.imshow(img)\n",
    "    plt.axis('off')\n",
    "plt.tight_layout()\n",
    "plt.show()\n",
    "\n",
    "\n",
    "# for numbers in t:\n",
    "#     a_list = [x for ind, x in enumerate(prediction) if x==numbers]\n",
    "#     a = int(random.randrange(len(a_list)))\n",
    "#     match.append(a_list[a])\n",
    "#     print(a, a_list[a])\n"
   ]
  },
  {
   "cell_type": "code",
   "execution_count": 111,
   "id": "f9dcc62b-c9f8-4aef-b73d-7245f669f2e2",
   "metadata": {},
   "outputs": [
    {
     "data": {
      "text/plain": [
       "[array([1.], dtype=float32),\n",
       " array([7.], dtype=float32),\n",
       " array([4.], dtype=float32)]"
      ]
     },
     "execution_count": 111,
     "metadata": {},
     "output_type": "execute_result"
    }
   ],
   "source": [
    "match"
   ]
  },
  {
   "cell_type": "code",
   "execution_count": 112,
   "id": "9c7a11e0-98b5-4818-ba11-f56d8ed209af",
   "metadata": {},
   "outputs": [
    {
     "name": "stdout",
     "output_type": "stream",
     "text": [
      "yahoo 1\n",
      "yahoo 7\n",
      "yahoo 4\n"
     ]
    }
   ],
   "source": [
    "for n in range(len(number)):\n",
    "    if t[n] in match:\n",
    "        print('yahoo',t[n])\n",
    "        plt.imshow()\n",
    "    else:\n",
    "        print('noo')"
   ]
  },
  {
   "cell_type": "code",
   "execution_count": 68,
   "id": "79738439-439e-4d12-a18f-9e3faa231d94",
   "metadata": {},
   "outputs": [
    {
     "data": {
      "text/plain": [
       "(5000, 20, 20)"
      ]
     },
     "execution_count": 68,
     "metadata": {},
     "output_type": "execute_result"
    }
   ],
   "source": [
    "digits.shape"
   ]
  },
  {
   "cell_type": "code",
   "execution_count": 70,
   "id": "e575d68f-f0da-4f2a-8edf-e1f5e7c94fcf",
   "metadata": {},
   "outputs": [],
   "source": [
    "ft = featureTest.reshape((-1,20,20))"
   ]
  },
  {
   "cell_type": "code",
   "execution_count": 80,
   "id": "96df1995-f24e-4fc4-9a5e-23ca0553ba48",
   "metadata": {},
   "outputs": [
    {
     "data": {
      "text/plain": [
       "(1667, 1)"
      ]
     },
     "execution_count": 80,
     "metadata": {},
     "output_type": "execute_result"
    }
   ],
   "source": [
    "prediction.shape"
   ]
  },
  {
   "cell_type": "code",
   "execution_count": 79,
   "id": "646919f6-407e-4277-97a1-919a29aba5d3",
   "metadata": {},
   "outputs": [
    {
     "data": {
      "text/plain": [
       "149"
      ]
     },
     "execution_count": 79,
     "metadata": {},
     "output_type": "execute_result"
    }
   ],
   "source": [
    "len(a_list)"
   ]
  },
  {
   "cell_type": "code",
   "execution_count": 118,
   "id": "dac81d77-5466-4ba8-b3ed-f31de2a7245a",
   "metadata": {},
   "outputs": [
    {
     "data": {
      "text/plain": [
       "(array([   0,   30,   37,   58,   64,   74,  100,  101,  105,  119,  124,\n",
       "         144,  165,  183,  194,  207,  213,  243,  253,  254,  262,  265,\n",
       "         282,  294,  309,  312,  316,  335,  357,  367,  385,  407,  409,\n",
       "         410,  415,  416,  433,  449,  452,  456,  462,  471,  486,  489,\n",
       "         493,  504,  517,  531,  578,  587,  592,  617,  618,  637,  649,\n",
       "         671,  673,  675,  683,  686,  688,  689,  697,  709,  733,  734,\n",
       "         743,  753,  756,  757,  780,  786,  790,  801,  805,  807,  823,\n",
       "         826,  842,  890,  933,  936,  974,  975,  987, 1003, 1010, 1031,\n",
       "        1060, 1063, 1068, 1095, 1099, 1114, 1138, 1155, 1156, 1161, 1166,\n",
       "        1172, 1186, 1191, 1192, 1203, 1219, 1225, 1229, 1236, 1296, 1297,\n",
       "        1300, 1309, 1312, 1362, 1368, 1371, 1373, 1380, 1405, 1408, 1409,\n",
       "        1418, 1471, 1488, 1497, 1502, 1512, 1515, 1530, 1542, 1550, 1569,\n",
       "        1573, 1575, 1612, 1628, 1630, 1633, 1634, 1636, 1651, 1658, 1666],\n",
       "       dtype=int64),\n",
       " array([0, 0, 0, 0, 0, 0, 0, 0, 0, 0, 0, 0, 0, 0, 0, 0, 0, 0, 0, 0, 0, 0,\n",
       "        0, 0, 0, 0, 0, 0, 0, 0, 0, 0, 0, 0, 0, 0, 0, 0, 0, 0, 0, 0, 0, 0,\n",
       "        0, 0, 0, 0, 0, 0, 0, 0, 0, 0, 0, 0, 0, 0, 0, 0, 0, 0, 0, 0, 0, 0,\n",
       "        0, 0, 0, 0, 0, 0, 0, 0, 0, 0, 0, 0, 0, 0, 0, 0, 0, 0, 0, 0, 0, 0,\n",
       "        0, 0, 0, 0, 0, 0, 0, 0, 0, 0, 0, 0, 0, 0, 0, 0, 0, 0, 0, 0, 0, 0,\n",
       "        0, 0, 0, 0, 0, 0, 0, 0, 0, 0, 0, 0, 0, 0, 0, 0, 0, 0, 0, 0, 0, 0,\n",
       "        0, 0, 0, 0, 0, 0, 0, 0, 0, 0, 0], dtype=int64))"
      ]
     },
     "execution_count": 118,
     "metadata": {},
     "output_type": "execute_result"
    }
   ],
   "source": [
    "ind = np.where(prediction==8)\n",
    "ind"
   ]
  },
  {
   "cell_type": "code",
   "execution_count": 121,
   "id": "7064eb13-1df5-45e4-aadc-e33242c656d9",
   "metadata": {},
   "outputs": [
    {
     "data": {
      "text/plain": [
       "<matplotlib.image.AxesImage at 0x1afc93c0070>"
      ]
     },
     "execution_count": 121,
     "metadata": {},
     "output_type": "execute_result"
    },
    {
     "data": {
      "image/png": "[encoded data removed]",
      "text/plain": [
       "<Figure size 432x288 with 1 Axes>"
      ]
     },
     "metadata": {
      "needs_background": "light"
     },
     "output_type": "display_data"
    }
   ],
   "source": [
    "plt.imshow(ft[37])"
   ]
  },
  {
   "cell_type": "code",
   "execution_count": 56,
   "id": "73e13ea2-cb37-4788-ae33-af09538ccc86",
   "metadata": {},
   "outputs": [
    {
     "data": {
      "text/plain": [
       "(1667,)"
      ]
     },
     "execution_count": 56,
     "metadata": {},
     "output_type": "execute_result"
    }
   ],
   "source": [
    "labelTest.shape"
   ]
  },
  {
   "cell_type": "code",
   "execution_count": 58,
   "id": "25dcc858-8cc2-4883-aab6-99f343d10472",
   "metadata": {},
   "outputs": [
    {
     "name": "stdout",
     "output_type": "stream",
     "text": [
      "no\n"
     ]
    }
   ],
   "source": []
  }
 ],
 "metadata": {
  "kernelspec": {
   "display_name": "Python 3",
   "language": "python",
   "name": "python3"
  },
  "language_info": {
   "codemirror_mode": {
    "name": "ipython",
    "version": 3
   },
   "file_extension": ".py",
   "mimetype": "text/x-python",
   "name": "python",
   "nbconvert_exporter": "python",
   "pygments_lexer": "ipython3",
   "version": "3.8.8"
  }
 },
 "nbformat": 4,
 "nbformat_minor": 5
}
