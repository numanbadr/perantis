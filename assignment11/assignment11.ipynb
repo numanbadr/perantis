{
 "cells": [
  {
   "cell_type": "markdown",
   "id": "7e85627b-7081-4162-be4e-dd955a40ceac",
   "metadata": {},
   "source": [
    "# Assignment 11\n",
    "\n",
    "1. Create a video and attach border of different colour\n",
    "2. Save the video\n",
    "3. Create a video player that can play any video file passed to it from any command line."
   ]
  },
  {
   "cell_type": "code",
   "execution_count": 1,
   "id": "c8115aed-9ea1-4562-b3aa-e0d97f9b5d4b",
   "metadata": {},
   "outputs": [],
   "source": [
    "# 1. Create a video and attach border of different colour\n",
    "# 2. Save the video\n",
    "\n",
    "import cv2 as cv\n",
    "\n",
    "# Capture video \n",
    "capture = cv.VideoCapture(0)\n",
    "\n",
    "# Check if camera is connected\n",
    "if capture.isOpened() is False:\n",
    "    print(\"Error opening camera 0\")\n",
    "    exit()\n",
    "\n",
    "# Define the codec and create VideoWriter object\n",
    "fourcc = cv.VideoWriter_fourcc(*'XVID')\n",
    "video_out = cv.VideoWriter('vidOutput.avi', fourcc, 20.0, (640,  480))\n",
    "\n",
    "while capture.isOpened():\n",
    "    # Capture frames, if read correctly ret is True\n",
    "    ret, frame = capture.read()\n",
    "    \n",
    "    # If no frame is returned, stop the loop\n",
    "    if not ret:\n",
    "        print(\"Didn't receive frame. Stop \")\n",
    "        break\n",
    "\n",
    "    # Mirror the frame\n",
    "    frame = cv.flip(frame, 1)\n",
    "        \n",
    "    # Create border around video\n",
    "    frame[:20,:] = [244, 133, 66] # Top border\n",
    "    frame[:,-20:] = [88, 157, 15] # Right border\n",
    "    frame[-20:,:] = [0, 230, 230] # Bottom border\n",
    "    frame[20:,:20] = [55, 68, 219] # Left border\n",
    "    \n",
    "    # Write the frame\n",
    "    video_out.write(frame)\n",
    "    \n",
    "    # Display frame\n",
    "    cv.imshow(\"Camera frame\", frame)\n",
    "\n",
    "    k = cv.waitKey(1)  # 1ms delay to show the next frame\n",
    "    \n",
    "    # Check if key is q then exit. \n",
    "    # ord() is integer representing the Unicode character. q = 113\n",
    "    if k == ord(\"q\"):\n",
    "        break\n",
    "\n",
    "# Close the video\n",
    "capture.release()\n",
    "video_out.release()\n",
    "cv.destroyAllWindows()\n",
    "\n"
   ]
  }
 ],
 "metadata": {
  "kernelspec": {
   "display_name": "Python 3",
   "language": "python",
   "name": "python3"
  },
  "language_info": {
   "codemirror_mode": {
    "name": "ipython",
    "version": 3
   },
   "file_extension": ".py",
   "mimetype": "text/x-python",
   "name": "python",
   "nbconvert_exporter": "python",
   "pygments_lexer": "ipython3",
   "version": "3.8.8"
  }
 },
 "nbformat": 4,
 "nbformat_minor": 5
}
