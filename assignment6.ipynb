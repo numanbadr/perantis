{
 "cells": [
  {
   "cell_type": "markdown",
   "id": "8c2d322f-c1ee-4720-ad4a-ce60494a5689",
   "metadata": {},
   "source": [
    "# Assignment (take home)\n",
    "\n",
    "1. Create an array of shape (10,10) with uint8 random values.\n",
    "2. Print the shape, size and dimension. \n",
    "3. Compute the values of the third row to the last row.\n",
    "4. Compute the average of the columns."
   ]
  },
  {
   "cell_type": "code",
   "execution_count": 5,
   "id": "b406ec08-d731-4e4b-92ab-834398e5d74b",
   "metadata": {},
   "outputs": [
    {
     "name": "stdout",
     "output_type": "stream",
     "text": [
      "Shape: (10, 10)\n",
      "Size: 100\n",
      "Dimension: 2\n",
      "Type: uint8\n",
      "\n",
      "Sum of EACH row from 3rd row to last row: [1243 1406 1466 1535 1260  664 1759]\n",
      "Sum of ALL row from 3rd row to last row: 9333\n",
      "\n",
      "Mean of EACH column:  [139.3 143.3 135.1 116.6 164.2 147.1 146.7 140.5  79.8 133.1]\n",
      "Mean of ALL columns:  134.57\n"
     ]
    }
   ],
   "source": [
    "import numpy as np\n",
    "\n",
    "np.random.seed(42)\n",
    "arr = np.random.randint(0,256, (10,10), dtype='uint8')\n",
    "\n",
    "\n",
    "print('Shape:', arr.shape)\n",
    "print('Size:', arr.size)\n",
    "print('Dimension:',arr.ndim)\n",
    "print('Type:', arr.dtype)\n",
    "\n",
    "arr3_last = arr[3:]\n",
    "\n",
    "# There'll be 7 element since there's only 7 rows remaining \n",
    "print('\\nSum of EACH row from 3rd row to last row:', np.sum(arr3_last, axis=1))\n",
    "print('Sum of ALL row from 3rd row to last row:', np.sum(arr3_last))\n",
    "\n",
    "# There'll be 10 element for each columns\n",
    "print('\\nMean of EACH column: ', arr.mean(axis=0))\n",
    "print('Mean of ALL columns: ', arr.mean())"
   ]
  },
  {
   "cell_type": "code",
   "execution_count": null,
   "id": "c87ca962-c6cf-4e28-9dd1-2efa0143646f",
   "metadata": {},
   "outputs": [],
   "source": []
  }
 ],
 "metadata": {
  "kernelspec": {
   "display_name": "Python 3",
   "language": "python",
   "name": "python3"
  },
  "language_info": {
   "codemirror_mode": {
    "name": "ipython",
    "version": 3
   },
   "file_extension": ".py",
   "mimetype": "text/x-python",
   "name": "python",
   "nbconvert_exporter": "python",
   "pygments_lexer": "ipython3",
   "version": "3.8.8"
  }
 },
 "nbformat": 4,
 "nbformat_minor": 5
}
