{
 "cells": [
  {
   "cell_type": "code",
   "execution_count": 1,
   "id": "11942242",
   "metadata": {},
   "outputs": [
    {
     "name": "stdout",
     "output_type": "stream",
     "text": [
      "Enter your NAME: Ahmad\n",
      "Enter your YEAR of birth: 2020\n",
      "Enter your SALARY: RM 3200.50\n",
      "\n",
      "Good day Ahmad! Your year of birth is 2020 and your age in the year 2030 will be 10. \n",
      "From your salary of RM 3200.50 the computed tax of 12.3% is 393.66.\n"
     ]
    }
   ],
   "source": [
    "# 1. Collect the name, year of birth and salary of a user. Then output the following :\n",
    "\n",
    "# Collect user input\n",
    "name = str(input('Enter your NAME: '))\n",
    "yob = int(input('Enter your YEAR of birth: '))\n",
    "salary = float(input('Enter your SALARY: RM '))\n",
    "\n",
    "# Perform calculation\n",
    "age = (2021 - yob) + (2030-2021)\n",
    "tax = (12.3/100)*salary\n",
    "\n",
    "print(f\"\\nGood day {name}! Your year of birth is {yob} and your age in the year 2030 will be {age}. \\nFrom your salary of RM {salary:.2f} the computed tax of 12.3% is {tax:.2f}.\")"
   ]
  },
  {
   "cell_type": "code",
   "execution_count": 2,
   "id": "0a015d53",
   "metadata": {},
   "outputs": [
    {
     "name": "stdout",
     "output_type": "stream",
     "text": [
      "How many person to input? >>4\n",
      "Enter Person 1 Name: Ahmad\n",
      "Enter Score for Ahmad: 100\n",
      "Enter Person 2 Name: Ali\n",
      "Enter Score for Ali: 95.5\n",
      "Enter Person 3 Name: Abu\n",
      "Enter Score for Abu: 82\n",
      "Enter Person 4 Name: Awang\n",
      "Enter Score for Awang: 90\n",
      "\n",
      "The names and scores given are: \n",
      "Ahmad\tAli\tAbu\tAwang\n",
      "100.0\t95.5\t82.0\t90.0\n",
      "\n",
      "The average score for the 4 person given is: 91.88\n"
     ]
    }
   ],
   "source": [
    "# 2. Collect a list of names and scores and find the average of the scores.\n",
    "\n",
    "# Initialize variables\n",
    "count = 1\n",
    "name_ls = []\n",
    "score_ls = []\n",
    "\n",
    "# Ask user for input limit\n",
    "total = int(input(\"How many person to input? >>\"))\n",
    "\n",
    "# Collect names and score\n",
    "for n in range(total):\n",
    "    name = str(input(f\"Enter Person {count} Name: \"))\n",
    "    score = float(input(f\"Enter Score for {name}: \"))\n",
    "    \n",
    "    name_ls.append(name)\n",
    "    score_ls.append(score)\n",
    "    count+=1\n",
    "\n",
    "# Calculate and combine the list\n",
    "average = sum(score_ls)/total\n",
    "full_ls = [name_ls, score_ls]\n",
    "\n",
    "print(f\"\\nThe names and scores given are: \")\n",
    "for i in full_ls:          # For each list in full list [[list][list]]\n",
    "    ls = map(str,i)        # Transform elements in list into string [[str,str,..][str,str,..]]\n",
    "    print('\\t'.join(ls))   # Join the elements together, separated by tab\n",
    "    \n",
    "print(f\"\\nThe average score for the {total} person given is: {average:.2f}\")"
   ]
  },
  {
   "cell_type": "code",
   "execution_count": 3,
   "id": "917cc424",
   "metadata": {},
   "outputs": [
    {
     "name": "stdout",
     "output_type": "stream",
     "text": [
      "Nu'man bin Badrud'din       \n",
      "Kampung Parit Patah,      \n",
      "82000 Pontian       \n",
      "Johor\n",
      "\n",
      "17 October 2021\n",
      "\n",
      "Perantis Iskandar       \n",
      "EduCity Iskandar,       \n",
      "79100 Nusajaya,       \n",
      "Johor\n",
      "\n",
      "Assalamualaikum. Hope you are in good health. My\n",
      "name is Nu'man bin Badrud'din and I am applying\n",
      "for  AI Engineer Position at Perantis.\n",
      "\n",
      " As a computational major, I have 3 years of\n",
      "Python and machine learning experience starting\n",
      "since  my undergraduate final year project which\n",
      "continues with my Master’s degree while working as\n",
      "a research assistant for 2 years. I am trained in\n",
      "data related field such as machine learning and AI\n",
      "as I recently have obtained the Data Science\n",
      "certificate  from The Centre of Applied Data\n",
      "Science (The CADS).\n",
      "\n",
      " While my domain so far has been the use of\n",
      "machine learning in physics research, I am willing\n",
      "to expand and adapt more knowledge and skills\n",
      "towards the application of Python and machine\n",
      "learning in the automation industry.\n",
      "\n",
      " I attach my resume and previous supervisor's\n",
      "recommendation letter with this application\n",
      "letter. I hope my knowledge and skills would be\n",
      "put into your consideration.\n",
      "\n",
      "Thank you.\n"
     ]
    }
   ],
   "source": [
    "# 3. Use python to write an application letter for job to Perantis apply text wrap with line width of 50.\n",
    "\n",
    "import textwrap\n",
    "\n",
    "print(\"Nu'man bin Badrud'din \\\n",
    "      \\nKampung Parit Patah,\\\n",
    "      \\n82000 Pontian \\\n",
    "      \\nJohor\")\n",
    "\n",
    "print(\"\\n17 October 2021\")\n",
    "\n",
    "print(\"\\nPerantis Iskandar \\\n",
    "      \\nEduCity Iskandar, \\\n",
    "      \\n79100 Nusajaya, \\\n",
    "      \\nJohor\")\n",
    "\n",
    "print()\n",
    "print(textwrap.fill('''Assalamualaikum. Hope you are in good health. My name is Nu'man bin Badrud'din and I am applying for \n",
    "AI Engineer Position at Perantis.''', 50))\n",
    "\n",
    "print()\n",
    "\n",
    "print(textwrap.fill(''' As a computational major, I have 3 years of Python and machine learning experience starting since \n",
    "my undergraduate final year project which continues with my Master’s degree while working as a research assistant for 2 years.\n",
    "I am trained in data related field such as machine learning and AI as I recently have obtained the Data Science certificate \n",
    "from The Centre of Applied Data Science (The CADS).''', 50))\n",
    "\n",
    "print()\n",
    "\n",
    "print(textwrap.fill(''' While my domain so far has been the use of machine learning in physics research,\n",
    "I am willing to expand and adapt more knowledge and skills towards the application of Python and machine learning in the\n",
    "automation industry.''', 50))\n",
    "\n",
    "print()\n",
    "\n",
    "print(textwrap.fill(''' I attach my resume and previous supervisor's recommendation letter with this application letter.\n",
    "I hope my knowledge and skills would be put into your consideration.''', 50))\n",
    "print(\"\\nThank you.\")"
   ]
  },
  {
   "cell_type": "markdown",
   "id": "d1f7589b",
   "metadata": {},
   "source": [
    "<h3>5.3 String Methods and Functions - Table 5.8 (page 73)<h3>"
   ]
  },
  {
   "cell_type": "code",
   "execution_count": 4,
   "id": "183e0b53",
   "metadata": {},
   "outputs": [
    {
     "name": "stdout",
     "output_type": "stream",
     "text": [
      "This is string example....wow!!!\n"
     ]
    }
   ],
   "source": [
    "# PAGE 73 \n",
    "\n",
    "# capitalize()\n",
    "\n",
    "str1 = \"this is string example....wow!!!\"\n",
    "print (str1.capitalize())"
   ]
  },
  {
   "cell_type": "code",
   "execution_count": 5,
   "id": "2c721531",
   "metadata": {},
   "outputs": [
    {
     "name": "stdout",
     "output_type": "stream",
     "text": [
      "aaaathis is string example....wow!!!aaaa\n"
     ]
    }
   ],
   "source": [
    "# center(width, fillchar)\n",
    "\n",
    "str1 = \"this is string example....wow!!!\"\n",
    "print (str1.center(40, 'a'))"
   ]
  },
  {
   "cell_type": "code",
   "execution_count": 6,
   "id": "929f72e3",
   "metadata": {},
   "outputs": [
    {
     "name": "stdout",
     "output_type": "stream",
     "text": [
      "str1.count(sub, 4, 40) :  2\n",
      "str1.count(sub) :  1\n"
     ]
    }
   ],
   "source": [
    "# count(str, beg= 0,end=len(string))\n",
    "\n",
    "str1 = \"this is string example....wow!!!\"\n",
    "sub = \"i\"\n",
    "print (\"str1.count(sub, 4, 40) : \", str1.count(sub, 4, 40))\n",
    "\n",
    "sub = \"wow\";\n",
    "print (\"str1.count(sub) : \", str1.count(sub))"
   ]
  },
  {
   "cell_type": "code",
   "execution_count": 7,
   "id": "7876b8e9",
   "metadata": {},
   "outputs": [
    {
     "name": "stdout",
     "output_type": "stream",
     "text": [
      "<class 'bytes'>\n",
      "b'D\\xc3\\xbcsseldorf'\n",
      "<class 'str'>\n",
      "Düsseldorf\n"
     ]
    }
   ],
   "source": [
    "# PAGE 74\n",
    "\n",
    "# Byte Decode & Encode\n",
    "# bytes.decode(encoding=\"utf-8\", errors=\"strict\")\n",
    "# str.encode(encoding=\"utf-8\", errors=\"strict\")\n",
    "\n",
    "city = \"Düsseldorf\"\n",
    "utf8_encoded = city.encode('utf-8')\n",
    "print(type(utf8_encoded)) # bytes\n",
    "print(utf8_encoded) # b'D\\xc3\\xbcsseldorf'\n",
    "\n",
    "decoded_city = utf8_encoded.decode('utf-8')\n",
    "print(type(decoded_city)) # str\n",
    "print(decoded_city) # Düsseldorf"
   ]
  },
  {
   "cell_type": "code",
   "execution_count": 8,
   "id": "fbf7c715",
   "metadata": {},
   "outputs": [
    {
     "name": "stdout",
     "output_type": "stream",
     "text": [
      "True\n",
      "True\n",
      "True\n",
      "False\n"
     ]
    }
   ],
   "source": [
    "# endswith(suffix, beg=0, end=len(string))\n",
    "\n",
    "str1 = \"this is string example....wow!!!\"\n",
    "suffix = \"wow!!!\"\n",
    "print (str1.endswith(suffix))\n",
    "print (str1.endswith(suffix,20))\n",
    "\n",
    "suffix = \"is\"\n",
    "print (str1.endswith(suffix, 2, 4))\n",
    "print (str1.endswith(suffix, 2, 6))"
   ]
  },
  {
   "cell_type": "code",
   "execution_count": 9,
   "id": "0550109f",
   "metadata": {},
   "outputs": [
    {
     "name": "stdout",
     "output_type": "stream",
     "text": [
      "Original string: this is\tstring example....wow!!!\n",
      "Default expanded tab: this is string example....wow!!!\n",
      "Double expanded tab: this is         string example....wow!!!\n"
     ]
    }
   ],
   "source": [
    "# PAGE 75 \n",
    "\n",
    "# expandtabs(tabsize=8)\n",
    "str1 = \"this is\\tstring example....wow!!!\"\n",
    "print (\"Original string: \" + str1)\n",
    "print (\"Default expanded tab: \" + str1.expandtabs())\n",
    "print (\"Double expanded tab: \" + str1.expandtabs(16))"
   ]
  },
  {
   "cell_type": "code",
   "execution_count": 10,
   "id": "9205cae3",
   "metadata": {},
   "outputs": [
    {
     "name": "stdout",
     "output_type": "stream",
     "text": [
      "15\n",
      "15\n",
      "-1\n"
     ]
    }
   ],
   "source": [
    "# find(str, beg=0 end=len(string))\n",
    "\n",
    "str1 = \"this is string example....wow!!!\"\n",
    "str2 = \"exam\"\n",
    "print (str1.find(str2))\n",
    "print (str1.find(str2, 10))\n",
    "print (str1.find(str2, 40))"
   ]
  },
  {
   "cell_type": "code",
   "execution_count": 11,
   "id": "108233c7",
   "metadata": {},
   "outputs": [
    {
     "name": "stdout",
     "output_type": "stream",
     "text": [
      "15\n",
      "15\n"
     ]
    }
   ],
   "source": [
    "# index(str, beg=0, end=len(string))\n",
    "\n",
    "str1 = \"this is string example....wow!!!\"\n",
    "str2 = \"exam\"\n",
    "print (str1.index(str2))\n",
    "print (str1.index(str2, 10))\n",
    "#print (str1.index(str2, 40)) # ValueError "
   ]
  },
  {
   "cell_type": "code",
   "execution_count": 12,
   "id": "a9e79571",
   "metadata": {},
   "outputs": [
    {
     "name": "stdout",
     "output_type": "stream",
     "text": [
      "True\n",
      "False\n"
     ]
    }
   ],
   "source": [
    "# PAGE 76\n",
    "\n",
    "# isalnum()\n",
    "\n",
    "str1 = \"this2009\"; # No space in this string\n",
    "print (str1.isalnum())\n",
    "str1 = \"this is string example....wow!!!\"\n",
    "print (str1.isalnum())"
   ]
  },
  {
   "cell_type": "code",
   "execution_count": 13,
   "id": "5a9c9a49",
   "metadata": {},
   "outputs": [
    {
     "name": "stdout",
     "output_type": "stream",
     "text": [
      "False\n",
      "False\n"
     ]
    }
   ],
   "source": [
    "# isalpha()\n",
    "\n",
    "str1 = \"this2009\"; # No space in this string\n",
    "print (str1.isalpha())\n",
    "str2 = \"this is string example....wow!!!\"\n",
    "print (str2.isalpha())"
   ]
  },
  {
   "cell_type": "code",
   "execution_count": 14,
   "id": "15722848",
   "metadata": {},
   "outputs": [
    {
     "name": "stdout",
     "output_type": "stream",
     "text": [
      "True\n",
      "False\n"
     ]
    }
   ],
   "source": [
    "# isdigit()\n",
    "\n",
    "str1 = \"123456\" # Only digit in this string\n",
    "print (str1.isdigit())\n",
    "str2 = \"this is string example....wow!!!\"\n",
    "print (str2.isdigit())"
   ]
  },
  {
   "cell_type": "code",
   "execution_count": 15,
   "id": "f4b862eb",
   "metadata": {},
   "outputs": [
    {
     "name": "stdout",
     "output_type": "stream",
     "text": [
      "False\n",
      "True\n"
     ]
    }
   ],
   "source": [
    "# PAGE 77\n",
    "\n",
    "# islower()\n",
    "\n",
    "str1 = \"THIS is string example....wow!!!\"\n",
    "print (str1.islower())\n",
    "str2 = \"this is string example....wow!!!\"\n",
    "print (str2.islower())"
   ]
  },
  {
   "cell_type": "code",
   "execution_count": 16,
   "id": "d10ff50a",
   "metadata": {},
   "outputs": [
    {
     "name": "stdout",
     "output_type": "stream",
     "text": [
      "False\n",
      "True\n"
     ]
    }
   ],
   "source": [
    "# isnumeric()\n",
    "\n",
    "str1 = u\"this2009\"\n",
    "print (str1.isnumeric())\n",
    "str2 = u\"23443434\"\n",
    "print (str2.isnumeric())"
   ]
  },
  {
   "cell_type": "code",
   "execution_count": 17,
   "id": "ec7a0fd3",
   "metadata": {},
   "outputs": [
    {
     "name": "stdout",
     "output_type": "stream",
     "text": [
      "True\n",
      "False\n"
     ]
    }
   ],
   "source": [
    "# isspace()\n",
    "\n",
    "str1 = \" \"\n",
    "print (str1.isspace())\n",
    "str2 = \"This is string example....wow!!!\"\n",
    "print (str2.isspace())"
   ]
  },
  {
   "cell_type": "code",
   "execution_count": 18,
   "id": "4cff68c9",
   "metadata": {},
   "outputs": [
    {
     "name": "stdout",
     "output_type": "stream",
     "text": [
      "True\n",
      "False\n"
     ]
    }
   ],
   "source": [
    "# istitle()\n",
    "\n",
    "str1 = \"This Is String Example...Wow!!!\"\n",
    "print (str1.istitle())\n",
    "str2 = \"This is string example....wow!!!\"\n",
    "print (str2.istitle())"
   ]
  },
  {
   "cell_type": "code",
   "execution_count": 19,
   "id": "bd00c19f",
   "metadata": {},
   "outputs": [
    {
     "name": "stdout",
     "output_type": "stream",
     "text": [
      "True\n",
      "False\n"
     ]
    }
   ],
   "source": [
    "# PAGE 78\n",
    "\n",
    "# isupper()\n",
    "\n",
    "str1 = \"THIS IS STRING EXAMPLE....WOW!!!\"\n",
    "print (str1.isupper())\n",
    "str2 = \"THIS is string example....wow!!!\"\n",
    "print (str2.isupper())"
   ]
  },
  {
   "cell_type": "code",
   "execution_count": 20,
   "id": "2730ceda",
   "metadata": {},
   "outputs": [
    {
     "name": "stdout",
     "output_type": "stream",
     "text": [
      "a-b-c\n"
     ]
    }
   ],
   "source": [
    "# join(seq)\n",
    "\n",
    "s = \"-\"\n",
    "seq = (\"a\", \"b\", \"c\"); # This is sequence of strings.\n",
    "print (s.join( seq ))"
   ]
  },
  {
   "cell_type": "code",
   "execution_count": 21,
   "id": "186a3b09",
   "metadata": {},
   "outputs": [
    {
     "name": "stdout",
     "output_type": "stream",
     "text": [
      "Length of the string:  32\n"
     ]
    }
   ],
   "source": [
    "# len(string)\n",
    "\n",
    "str1 = \"this is string example....wow!!!\"\n",
    "print (\"Length of the string: \", len(str1))"
   ]
  },
  {
   "cell_type": "code",
   "execution_count": 22,
   "id": "e6bc3188",
   "metadata": {},
   "outputs": [
    {
     "name": "stdout",
     "output_type": "stream",
     "text": [
      "this is string example....wow!!!000000000000000000\n"
     ]
    }
   ],
   "source": [
    "# ljust(width[, fillchar])\n",
    "\n",
    "str1 = \"this is string example....wow!!!\"\n",
    "print (str1.ljust(50, '0'))"
   ]
  },
  {
   "cell_type": "code",
   "execution_count": 23,
   "id": "dd4224cb",
   "metadata": {},
   "outputs": [
    {
     "name": "stdout",
     "output_type": "stream",
     "text": [
      "this is string example....wow!!!\n"
     ]
    }
   ],
   "source": [
    "# PAGE 79 \n",
    "\n",
    "# lower()\n",
    "\n",
    "str1 = \"THIS IS STRING EXAMPLE....WOW!!!\"\n",
    "print (str1.lower())"
   ]
  },
  {
   "cell_type": "code",
   "execution_count": 24,
   "id": "156f5b99",
   "metadata": {},
   "outputs": [
    {
     "name": "stdout",
     "output_type": "stream",
     "text": [
      "this is string example....wow!!! \n",
      "this is string example....wow!!!8888888\n"
     ]
    }
   ],
   "source": [
    "# lstrip()\n",
    "\n",
    "str1 = \" this is string example....wow!!! \"\n",
    "print (str1.lstrip())\n",
    "str2 = \"88888888this is string example....wow!!!8888888\"\n",
    "print (str2.lstrip('8'))"
   ]
  },
  {
   "cell_type": "code",
   "execution_count": 25,
   "id": "c4033140",
   "metadata": {},
   "outputs": [
    {
     "name": "stdout",
     "output_type": "stream",
     "text": [
      "th3s 3s str3ng 2x1mpl2....w4w!!!\n"
     ]
    }
   ],
   "source": [
    "# maketrans()\n",
    "\n",
    "intab = \"aeiou\"\n",
    "outtab = \"12345\"\n",
    "trantab = str.maketrans(intab, outtab)\n",
    "str1 = \"this is string example....wow!!!\"\n",
    "print (str1.translate(trantab))"
   ]
  },
  {
   "cell_type": "code",
   "execution_count": 26,
   "id": "b4cabf34",
   "metadata": {},
   "outputs": [
    {
     "name": "stdout",
     "output_type": "stream",
     "text": [
      "Max character: y\n",
      "Max character: x\n"
     ]
    }
   ],
   "source": [
    "# max(str)\n",
    "\n",
    "str1 = \"this is really a string example....wow!!!\"\n",
    "print (\"Max character: \" + max(str1))\n",
    "str2 = \"this is a string example....wow!!!\"\n",
    "print (\"Max character: \" + max(str2))"
   ]
  },
  {
   "cell_type": "code",
   "execution_count": 27,
   "id": "7dd94330",
   "metadata": {},
   "outputs": [
    {
     "name": "stdout",
     "output_type": "stream",
     "text": [
      "Min character: !\n",
      "Min character: !\n"
     ]
    }
   ],
   "source": [
    "# PAGE 80\n",
    "\n",
    "# min(str)\n",
    "\n",
    "str1 = \"this-is-real-string-example....wow!!!\"\n",
    "print (\"Min character: \" + min(str1))\n",
    "str2 = \"this-is-a-string-example....wow!!!\"\n",
    "print (\"Min character: \" + min(str2))"
   ]
  },
  {
   "cell_type": "code",
   "execution_count": 28,
   "id": "0e3a7f0a",
   "metadata": {},
   "outputs": [
    {
     "name": "stdout",
     "output_type": "stream",
     "text": [
      "thwas was string example....wow!!! thwas was really string\n",
      "thwas was string example....wow!!! thwas is really string\n"
     ]
    }
   ],
   "source": [
    "# replace(old, new [, max])\n",
    "\n",
    "str1 = \"this is string example....wow!!! this is really string\"\n",
    "print (str1.replace(\"is\", \"was\"))\n",
    "print (str1.replace(\"is\", \"was\", 3))"
   ]
  },
  {
   "cell_type": "code",
   "execution_count": 29,
   "id": "1b298b24",
   "metadata": {},
   "outputs": [
    {
     "name": "stdout",
     "output_type": "stream",
     "text": [
      "5\n",
      "5\n",
      "-1\n",
      "2\n",
      "2\n",
      "-1\n"
     ]
    }
   ],
   "source": [
    "# rfind(str, beg=0,end=len(string))\n",
    "\n",
    "str1 = \"this is really a string example....wow!!!\"\n",
    "str2 = \"is\"\n",
    "print (str1.rfind(str2))\n",
    "print (str1.rfind(str2, 0, 10))\n",
    "print (str1.rfind(str2, 10, 0))\n",
    "print (str1.find(str2))\n",
    "print (str1.find(str2, 0, 10))\n",
    "print (str1.find(str2, 10, 0))"
   ]
  },
  {
   "cell_type": "code",
   "execution_count": 30,
   "id": "51bc4291",
   "metadata": {},
   "outputs": [
    {
     "name": "stdout",
     "output_type": "stream",
     "text": [
      "5\n",
      "2\n"
     ]
    }
   ],
   "source": [
    "# PAGE 81\n",
    "\n",
    "# rindex( str, beg=0, end=len(string))\n",
    "\n",
    "str1 = \"this is string example....wow!!!\"\n",
    "str2 = \"is\"\n",
    "print (str1.rindex(str2))\n",
    "print (str1.index(str2))"
   ]
  },
  {
   "cell_type": "code",
   "execution_count": 31,
   "id": "dbc81f48",
   "metadata": {},
   "outputs": [
    {
     "name": "stdout",
     "output_type": "stream",
     "text": [
      "000000000000000000this is string example....wow!!!\n"
     ]
    }
   ],
   "source": [
    "# rjust(width,[, fillchar])\n",
    "\n",
    "str1 = \"this is string example....wow!!!\"\n",
    "print (str1.rjust(50, '0'))"
   ]
  },
  {
   "cell_type": "code",
   "execution_count": 32,
   "id": "d9329f85",
   "metadata": {},
   "outputs": [
    {
     "name": "stdout",
     "output_type": "stream",
     "text": [
      " this is string example....wow!!!\n",
      "88888888this is string example....wow!!!\n"
     ]
    }
   ],
   "source": [
    "# rstrip()\n",
    "\n",
    "str1 = \" this is string example....wow!!! \"\n",
    "print (str1.rstrip())\n",
    "str2 = \"88888888this is string example....wow!!!8888888\";\n",
    "print (str2.rstrip('8'))"
   ]
  },
  {
   "cell_type": "code",
   "execution_count": 33,
   "id": "0236df50",
   "metadata": {},
   "outputs": [
    {
     "name": "stdout",
     "output_type": "stream",
     "text": [
      "['Line1-abcdef', 'Line2-abc', 'Line4-abcd']\n",
      "['Line1-abcdef', '\\nLine2-abc \\nLine4-abcd']\n"
     ]
    }
   ],
   "source": [
    "# split(str=\"\", num=string.count(str))\n",
    "\n",
    "str1 = \"Line1-abcdef \\nLine2-abc \\nLine4-abcd\"\n",
    "print (str1.split( ))\n",
    "print (str1.split(' ', 1 ))\n"
   ]
  },
  {
   "cell_type": "code",
   "execution_count": 34,
   "id": "de7b3bee",
   "metadata": {},
   "outputs": [
    {
     "name": "stdout",
     "output_type": "stream",
     "text": [
      "['Line1-a b c d e f', 'Line2- a b c', '', 'Line4- a b c d']\n",
      "['Line1-a b c d e f', 'Line2- a b c', '', 'Line4- a b c d']\n",
      "['Line1-a b c d e f\\n', 'Line2- a b c\\n', '\\n', 'Line4- a b c d']\n",
      "['Line1-a b c d e f\\n', 'Line2- a b c\\n', '\\n', 'Line4- a b c d']\n",
      "['Line1-a b c d e f\\n', 'Line2- a b c\\n', '\\n', 'Line4- a b c d']\n"
     ]
    }
   ],
   "source": [
    "# PAGE 82\n",
    "\n",
    "# splitlines( num=string.count('\\n'))\n",
    "\n",
    "str1 = \"Line1-a b c d e f\\nLine2- a b c\\n\\nLine4- a b c d\"\n",
    "print (str1.splitlines( ))\n",
    "print (str1.splitlines( 0 ))\n",
    "print (str1.splitlines( 3 ))\n",
    "print (str1.splitlines( 4 ))\n",
    "print (str1.splitlines( 5 ))"
   ]
  },
  {
   "cell_type": "code",
   "execution_count": 35,
   "id": "7f23072f",
   "metadata": {},
   "outputs": [
    {
     "name": "stdout",
     "output_type": "stream",
     "text": [
      "True\n",
      "True\n",
      "False\n"
     ]
    }
   ],
   "source": [
    "# startswith(str, beg=0,end=len(string))\n",
    "\n",
    "str1 = \"this is string example....wow!!!\"\n",
    "print (str1.startswith( 'this' ))\n",
    "print (str1.startswith( 'is', 2, 4 ))\n",
    "print (str1.startswith( 'this', 2, 4 ))"
   ]
  },
  {
   "cell_type": "code",
   "execution_count": 36,
   "id": "6df23efd",
   "metadata": {},
   "outputs": [
    {
     "name": "stdout",
     "output_type": "stream",
     "text": [
      "this is string example....wow!!!\n"
     ]
    }
   ],
   "source": [
    "# strip([chars])\n",
    "\n",
    "str1 = \"0000000this is string example....wow!!!0000000\"\n",
    "print (str1.strip( '0' ))\n"
   ]
  },
  {
   "cell_type": "code",
   "execution_count": 37,
   "id": "b4b82666",
   "metadata": {},
   "outputs": [
    {
     "name": "stdout",
     "output_type": "stream",
     "text": [
      "THIS IS STRING EXAMPLE....WOW!!!\n",
      "this is string example....wow!!!\n"
     ]
    }
   ],
   "source": [
    "# PAGE 83 \n",
    "\n",
    "# swapcase()\n",
    "\n",
    "str1 = \"this is string example....wow!!!\"\n",
    "print (str1.swapcase())\n",
    "str1 = \"THIS IS STRING EXAMPLE....WOW!!!\"\n",
    "print (str1.swapcase())\n"
   ]
  },
  {
   "cell_type": "code",
   "execution_count": 38,
   "id": "a4e726bf",
   "metadata": {},
   "outputs": [
    {
     "name": "stdout",
     "output_type": "stream",
     "text": [
      "This Is String Example....Wow!!!\n"
     ]
    }
   ],
   "source": [
    "# title()\n",
    "\n",
    "str1 = \"this is string example....wow!!!\"\n",
    "print (str1.title())"
   ]
  },
  {
   "cell_type": "code",
   "execution_count": 39,
   "id": "d3fb332f",
   "metadata": {},
   "outputs": [
    {
     "name": "stdout",
     "output_type": "stream",
     "text": [
      "th3s 3s str3ng 2x1mpl2....w4w!!!\n",
      "88888888th3s 3s str3ng 21pl2....w4w!!!8888888\n"
     ]
    }
   ],
   "source": [
    "# translate(table, deletechars=\"\")\n",
    "\n",
    "intab = \"aeiou\"\n",
    "outtab = \"12345\"\n",
    "str1 = \"this is string example....wow!!!\"\n",
    "trantab = str.maketrans(intab, outtab)\n",
    "print (str1.translate(trantab))\n",
    "\n",
    "trantab = str.maketrans(intab, outtab, 'xm')\n",
    "print (str2.translate(trantab))"
   ]
  },
  {
   "cell_type": "code",
   "execution_count": 40,
   "id": "4bc4ebbe",
   "metadata": {},
   "outputs": [
    {
     "name": "stdout",
     "output_type": "stream",
     "text": [
      "str1.capitalize() :  THIS IS STRING EXAMPLE....WOW!!!\n"
     ]
    }
   ],
   "source": [
    "# upper()\n",
    "\n",
    "str1 = \"this is string example....wow!!!\"\n",
    "print (\"str1.capitalize() : \", str1.upper())"
   ]
  },
  {
   "cell_type": "code",
   "execution_count": 41,
   "id": "0da72213",
   "metadata": {},
   "outputs": [
    {
     "name": "stdout",
     "output_type": "stream",
     "text": [
      "00000000this is string example....wow!!!\n",
      "000000000000000000this is string example....wow!!!\n"
     ]
    }
   ],
   "source": [
    "# PAGE 84\n",
    "\n",
    "# zfill (width)\n",
    "\n",
    "str1 = \"this is string example....wow!!!\"\n",
    "print (str1.zfill(40))\n",
    "print (str1.zfill(50))"
   ]
  },
  {
   "cell_type": "code",
   "execution_count": 42,
   "id": "f1b22f62",
   "metadata": {
    "scrolled": true
   },
   "outputs": [
    {
     "name": "stdout",
     "output_type": "stream",
     "text": [
      "False\n",
      "True\n"
     ]
    }
   ],
   "source": [
    "# isdecimal()\n",
    "\n",
    "str1 = u\"this2009\"\n",
    "print (str1.isdecimal())\n",
    "str2 = u\"23443434\"\n",
    "print (str2.isdecimal())\n"
   ]
  }
 ],
 "metadata": {
  "kernelspec": {
   "display_name": "Python 3",
   "language": "python",
   "name": "python3"
  },
  "language_info": {
   "codemirror_mode": {
    "name": "ipython",
    "version": 3
   },
   "file_extension": ".py",
   "mimetype": "text/x-python",
   "name": "python",
   "nbconvert_exporter": "python",
   "pygments_lexer": "ipython3",
   "version": "3.8.8"
  }
 },
 "nbformat": 4,
 "nbformat_minor": 5
}
