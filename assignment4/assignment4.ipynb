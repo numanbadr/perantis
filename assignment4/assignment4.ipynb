{
 "cells": [
  {
   "cell_type": "markdown",
   "id": "7e0aab41-719c-4790-91a7-0e2ce73d7512",
   "metadata": {},
   "source": [
    "# Take Home Assignments"
   ]
  },
  {
   "cell_type": "markdown",
   "id": "e8c427af-78b1-42cb-86dd-b2676ff86b69",
   "metadata": {},
   "source": [
    "## Assignments 1 - Functions & Recursive Functions\n",
    "\n",
    "1. Write a function to calculate S = 1+2+...+n <br>\n",
    "    i) simple way <br>\n",
    "    ii) via a recursive function\n",
    "\n"
   ]
  },
  {
   "cell_type": "code",
   "execution_count": 1,
   "id": "85d9db35-a28e-46d8-8d7e-a5a22a4be26a",
   "metadata": {},
   "outputs": [
    {
     "name": "stdin",
     "output_type": "stream",
     "text": [
      "Enter a positive integer:  4\n"
     ]
    },
    {
     "name": "stdout",
     "output_type": "stream",
     "text": [
      "S = 10\n"
     ]
    }
   ],
   "source": [
    "# 1.1 Simple way\n",
    "\n",
    "n = int(input('Enter a positive integer: '))\n",
    "S = 0\n",
    "\n",
    "# For loop\n",
    "for i in range(n+1):\n",
    "    S = S + i\n",
    "\n",
    "# 2. Print the result\n",
    "print(\"S =\", S)"
   ]
  },
  {
   "cell_type": "code",
   "execution_count": 2,
   "id": "d326beb0-a3ee-436b-b51f-3ebfe279ad97",
   "metadata": {},
   "outputs": [
    {
     "name": "stdin",
     "output_type": "stream",
     "text": [
      "Enter a positive integer:  4\n"
     ]
    },
    {
     "name": "stdout",
     "output_type": "stream",
     "text": [
      "S = 10\n"
     ]
    }
   ],
   "source": [
    "# 1.2 Recursive function\n",
    "\n",
    "def add(n):\n",
    "    if n==0:\n",
    "        return 0\n",
    "    else:\n",
    "        S2 = (n+add(n-1))\n",
    "        return S2\n",
    "\n",
    "print('S =', add(int(input('Enter a positive integer: '))))"
   ]
  },
  {
   "cell_type": "markdown",
   "id": "71ff675e-9f8b-4d3b-ba4c-5b5fb9a70468",
   "metadata": {},
   "source": [
    "### Fibonacci\n",
    "\n",
    "2. Write a function to create a Fibonacci sequence (0,1,1,2,3,5) <br>\n",
    "    TIP: The function gets the number of terms and produce the terms from 0 to the n. <br>\n",
    "    NOTE: once without recursion, another time with recursion"
   ]
  },
  {
   "cell_type": "code",
   "execution_count": 3,
   "id": "1a31be87-f054-4e81-815d-09343e9719b2",
   "metadata": {},
   "outputs": [
    {
     "name": "stdin",
     "output_type": "stream",
     "text": [
      "Enter number of terms >>  6\n"
     ]
    },
    {
     "name": "stdout",
     "output_type": "stream",
     "text": [
      "Fibonacci sequence:\n",
      "0\n",
      "1\n",
      "1\n",
      "2\n",
      "3\n",
      "5\n"
     ]
    }
   ],
   "source": [
    "# Fibonacci Regular function \n",
    "\n",
    "n_term = int(input('Enter number of terms >> '))\n",
    "\n",
    "n1, n2 = 0, 1\n",
    "\n",
    "print('Fibonacci sequence:')\n",
    "while n_term>0:\n",
    "    print(n1)\n",
    "    n = n1 + n2 # initial nth term is n1+n2\n",
    "    n1 = n2     # old n2 becomes new n1\n",
    "    n2 = n      # new nth term becomes new n2\n",
    "    n_term-=1"
   ]
  },
  {
   "cell_type": "code",
   "execution_count": 4,
   "id": "e358f431-3110-40a5-92c9-07dbb64bce34",
   "metadata": {},
   "outputs": [
    {
     "name": "stdin",
     "output_type": "stream",
     "text": [
      "Enter number of terms >>  6\n"
     ]
    },
    {
     "name": "stdout",
     "output_type": "stream",
     "text": [
      "Fibonacci sequence:\n",
      "0\n",
      "1\n",
      "1\n",
      "2\n",
      "3\n",
      "5\n"
     ]
    }
   ],
   "source": [
    "# Fibonacci Recursive Function\n",
    "\n",
    "n1, n2 = 0, 1\n",
    "\n",
    "def fibonacci(n):\n",
    "    if n<=1:\n",
    "        return n  # for term 1 and term 2 (0 & 1)\n",
    "    else:\n",
    "        return (fibonacci(n-1) + fibonacci(n-2)) # for other terms (> 1)\n",
    "    \n",
    "n_term = int(input('Enter number of terms >> '))\n",
    "\n",
    "print('Fibonacci sequence:')\n",
    "for i in range(n_term):\n",
    "    print(fibonacci(i))"
   ]
  },
  {
   "cell_type": "markdown",
   "id": "41d8fdff-f468-4de9-a2ed-cf562a56978c",
   "metadata": {},
   "source": [
    "## Assignment 2 - Lambda Function\n",
    "\n",
    "Write down a function to produce this statement: <br>\n",
    "    f($x$,$y$,$z$) = 2$x^2$ + 2$y$ + $z$\n",
    "\n",
    "use lambda functions"
   ]
  },
  {
   "cell_type": "code",
   "execution_count": 5,
   "id": "fb47f12d-8449-4756-a6d4-6c655364575e",
   "metadata": {},
   "outputs": [
    {
     "name": "stdout",
     "output_type": "stream",
     "text": [
      "9\n",
      "9\n"
     ]
    }
   ],
   "source": [
    "# Regular function\n",
    "def func(x, y, z):\n",
    "    return 2*x**2 + 2*y + z\n",
    "\n",
    "# Lambda function\n",
    "a = lambda x, y, z: 2*x**2 + 2*y + z\n",
    "\n",
    "print(a(1,2,3))\n",
    "print(func(1,2,3))"
   ]
  },
  {
   "cell_type": "markdown",
   "id": "62e876a3-7ac1-4b13-80ad-717df09aea36",
   "metadata": {},
   "source": [
    "## Assignment 3 - Module\n",
    "\n",
    "1. Find out the other functions to from a date and time of now and try to use them in your code\n",
    "\n",
    "2. Find out more functions in math module and try to use them in your code\n",
    "\n",
    "3. <br>\n",
    "    3.1 Create a module with your name and import functions of the previous assigment to it. Try to use them in another file. <br>\n",
    "    3.2 Check the existing functions in math module."
   ]
  },
  {
   "cell_type": "code",
   "execution_count": 6,
   "id": "408d7ca7-c208-4a8f-ad9a-4ce67bdce0ae",
   "metadata": {},
   "outputs": [
    {
     "name": "stdout",
     "output_type": "stream",
     "text": [
      "2021-10-21 23:57:23.493092\n",
      "2021-10-21\n",
      "Current year: 2021\n",
      "Current month: 10\n",
      "Current day: 21\n"
     ]
    }
   ],
   "source": [
    "# 1. Find out the other functions to from a date and time of now and try to use them in your code\n",
    "\n",
    "import datetime\n",
    "\n",
    "now = datetime.datetime.now()\n",
    "date = datetime.date.today()\n",
    "\n",
    "print(now)\n",
    "print(date)\n",
    "\n",
    "today = date.today()\n",
    "print(\"Current year:\", today.year)\n",
    "print(\"Current month:\", today.month)\n",
    "print(\"Current day:\", today.day)"
   ]
  },
  {
   "cell_type": "code",
   "execution_count": 7,
   "id": "de2b6429-e397-4837-8f10-9aff33ef70d7",
   "metadata": {},
   "outputs": [
    {
     "name": "stdout",
     "output_type": "stream",
     "text": [
      "24\n",
      "7.38905609893065\n"
     ]
    }
   ],
   "source": [
    "# 2. Find out more functions in math module and try to use them in your code\n",
    "\n",
    "import math\n",
    "\n",
    "x = math.factorial(4)\n",
    "y = math.exp(2)\n",
    "\n",
    "print(x)\n",
    "print(y)"
   ]
  },
  {
   "cell_type": "code",
   "execution_count": 8,
   "id": "5913814c-32ef-47da-9c0e-d707fb8dd06a",
   "metadata": {},
   "outputs": [
    {
     "name": "stdout",
     "output_type": "stream",
     "text": [
      "Hello Nu'man\n",
      "Bye Nu'man\n"
     ]
    },
    {
     "data": {
      "text/plain": [
       "{'name': 'John', 'age': 36, 'country': 'Norway'}"
      ]
     },
     "execution_count": 8,
     "metadata": {},
     "output_type": "execute_result"
    }
   ],
   "source": [
    "# 3.1 Create a module with your name and import functions of the previous assigment to it. Try to use them in another file.\n",
    "\n",
    "import NumanModule\n",
    "\n",
    "NumanModule.greeting(\"Nu'man\")\n",
    "NumanModule.goodbye(\"Nu'man\")\n",
    "NumanModule.person1"
   ]
  },
  {
   "cell_type": "code",
   "execution_count": 9,
   "id": "7131627c-4934-40e6-a820-5da67650cf90",
   "metadata": {},
   "outputs": [
    {
     "name": "stdout",
     "output_type": "stream",
     "text": [
      "['__doc__', '__loader__', '__name__', '__package__', '__spec__', 'acos', 'acosh', 'asin', 'asinh', 'atan', 'atan2', 'atanh', 'ceil', 'comb', 'copysign', 'cos', 'cosh', 'degrees', 'dist', 'e', 'erf', 'erfc', 'exp', 'expm1', 'fabs', 'factorial', 'floor', 'fmod', 'frexp', 'fsum', 'gamma', 'gcd', 'hypot', 'inf', 'isclose', 'isfinite', 'isinf', 'isnan', 'isqrt', 'ldexp', 'lgamma', 'log', 'log10', 'log1p', 'log2', 'modf', 'nan', 'perm', 'pi', 'pow', 'prod', 'radians', 'remainder', 'sin', 'sinh', 'sqrt', 'tan', 'tanh', 'tau', 'trunc']\n"
     ]
    }
   ],
   "source": [
    "# 3.2 Check the existing functions in math module.\n",
    "\n",
    "import math\n",
    "\n",
    "print(dir(math))"
   ]
  },
  {
   "cell_type": "markdown",
   "id": "54d6088e-27e9-4157-bc52-4bf4e9492f86",
   "metadata": {},
   "source": [
    "## Assignment 4 - Module & Packages\n",
    "\n",
    "To create a package that have these modules:\n",
    "1. A module (FileHandling) that has function for creating, writing and reading the file. The file will be sent by an argument \n",
    "2. A module (destroy): get the file name and delete the file\n",
    "3. Use the package and all the modules in your code."
   ]
  },
  {
   "cell_type": "code",
   "execution_count": 10,
   "id": "8c8f175a-57ad-4cc3-81ea-634784b0f0ec",
   "metadata": {},
   "outputs": [
    {
     "name": "stdin",
     "output_type": "stream",
     "text": [
      "File name:  testing\n",
      "How many lines? >> 3\n",
      "Input message for line 1:  one\n",
      "Input message for line 2:  two\n",
      "Input message for line 3:  three\n"
     ]
    },
    {
     "name": "stdout",
     "output_type": "stream",
     "text": [
      "one\n",
      "\n",
      "two\n",
      "\n",
      "three\n",
      "\n"
     ]
    }
   ],
   "source": [
    "# Use the package and all the modules in your code.\n",
    "# 1. A module (FileHandling) that has function for creating, writing and reading the file. The file will be sent by an argument\n",
    "\n",
    "from numanpackage import FileHandling\n",
    "\n",
    "file_name = input('File name: ')\n",
    "\n",
    "FileHandling.create(file_name)\n",
    "FileHandling.write(file_name)\n",
    "FileHandling.read(file_name)"
   ]
  },
  {
   "cell_type": "code",
   "execution_count": 11,
   "id": "771ea357-5f6d-4377-92f7-4b27e4725706",
   "metadata": {},
   "outputs": [],
   "source": [
    "# 2. A module (destroy): get the file name and delete the file\n",
    "\n",
    "from numanpackage import destroy\n",
    "\n",
    "destroy.destroy(file_name)"
   ]
  },
  {
   "cell_type": "markdown",
   "id": "b728bf25-16c8-4ffc-acd9-07bf0a2bad7e",
   "metadata": {},
   "source": [
    "# In-class Assignments"
   ]
  },
  {
   "cell_type": "markdown",
   "id": "0160363c-f548-435f-a6f6-12560fc61dc7",
   "metadata": {},
   "source": [
    "### Function\n",
    "\n",
    "1. write a function to get arguments by keywords and values: <br>\n",
    "    initialTemp = 400.0, simulationTime=35\n",
    "    <br>(just print them in function. try to call function with different number of args)"
   ]
  },
  {
   "cell_type": "code",
   "execution_count": 12,
   "id": "efd428c1-3a29-4988-8e8a-cc7b2d2840ed",
   "metadata": {},
   "outputs": [
    {
     "name": "stdout",
     "output_type": "stream",
     "text": [
      "Initial Temperature: 400.0 °C\n",
      "Simulation Time: 35 s\n",
      "\n",
      "Initial Temperature: 100 °C\n",
      "Simulation Time: 60 s\n",
      "\n",
      "Initial Temperature: 200 °C\n",
      "Simulation Time: 35 s\n",
      "\n"
     ]
    }
   ],
   "source": [
    "def my_func(initialTemp = 400.0, simulationTime=35):\n",
    "    print(f'Initial Temperature: {initialTemp} \\N{DEGREE SIGN}C\\nSimulation Time: {simulationTime} s\\n')\n",
    "    \n",
    "my_func()\n",
    "my_func(100,60)\n",
    "my_func(200)\n"
   ]
  },
  {
   "cell_type": "markdown",
   "id": "5bcf5334-8e53-4cfb-97f5-c1ad8703dcd3",
   "metadata": {},
   "source": [
    "### Packages\n",
    "Check if the camelcase package is installed. <br>\n",
    "If it is not, install it <br>\n",
    "Then use it to change string into camel case"
   ]
  },
  {
   "cell_type": "code",
   "execution_count": 13,
   "id": "73b0f82e-931e-4ada-a043-29e73cad79d0",
   "metadata": {},
   "outputs": [
    {
     "name": "stdout",
     "output_type": "stream",
     "text": [
      "Requirement already satisfied: camelcase in c:\\users\\user\\anaconda3\\lib\\site-packages (0.2)\n",
      "Note: you may need to restart the kernel to use updated packages.\n"
     ]
    }
   ],
   "source": [
    "pip install camelcase"
   ]
  },
  {
   "cell_type": "code",
   "execution_count": 14,
   "id": "c16c7d85-d735-4d1c-a552-1e8363fc023b",
   "metadata": {},
   "outputs": [
    {
     "data": {
      "text/plain": [
       "'Hello World'"
      ]
     },
     "execution_count": 14,
     "metadata": {},
     "output_type": "execute_result"
    }
   ],
   "source": [
    "import camelcase\n",
    "\n",
    "c = camelcase.CamelCase()\n",
    "\n",
    "txt = 'hello world'\n",
    "\n",
    "c.hump(txt)"
   ]
  },
  {
   "cell_type": "markdown",
   "id": "ee5a7568-1090-41d6-9438-db75b6ec522b",
   "metadata": {},
   "source": [
    "### Modules\n",
    "\n",
    "1. Create a module with your name\n",
    "2. Create a package which contains this module\n",
    "3. Use the package in the program"
   ]
  },
  {
   "cell_type": "code",
   "execution_count": 15,
   "id": "e61e2314-b7d6-4fb2-906c-00a815cddbb6",
   "metadata": {},
   "outputs": [
    {
     "name": "stdout",
     "output_type": "stream",
     "text": [
      "Hello Nu'man\n",
      "Bye Nu'man\n",
      "John\n",
      "36\n",
      "Norway\n"
     ]
    }
   ],
   "source": [
    "# run pckg.py in cv-master folder\n",
    "\n",
    "from numanpackage import greet, bye, person1\n",
    "\n",
    "greet.greeting(\"Nu'man\")\n",
    "bye.goodbye(\"Nu'man\")\n",
    "\n",
    "print(person1.person1['name'])\n",
    "print(person1.person1['age'])\n",
    "print(person1.person1['country'])\n"
   ]
  },
  {
   "cell_type": "markdown",
   "id": "ce0497cd-64f4-470e-b1c2-21c821528bcf",
   "metadata": {},
   "source": [
    "## Assignment (in class)\n",
    "\n",
    "1. Create a file with your name and .txt extension\n",
    "2. The file should be like this: <br>\n",
    "    No Student Name Grade <br>\n",
    "    1  Inamul        100 <br>\n",
    "    2  Alkisah       100 <br>\n",
    "\n",
    "3. Read the file line by line and print it\n",
    "4. Close the file"
   ]
  },
  {
   "cell_type": "code",
   "execution_count": 16,
   "id": "e338600b-25fe-436d-bac2-bae5bcbcf9b7",
   "metadata": {},
   "outputs": [],
   "source": [
    "import os\n",
    "\n",
    "f = open('numan.txt','w')\n",
    "f.writelines(['No. \\t Student Name \\t Grade\\n','1 \\t Inamul \\t\\t 100\\n','2 \\t Alkisah \\t\\t 100\\n'])\n",
    "\n",
    "f.close()"
   ]
  },
  {
   "cell_type": "code",
   "execution_count": 17,
   "id": "650d499b-9998-4f8d-83ab-563aaedb22b9",
   "metadata": {},
   "outputs": [
    {
     "name": "stdout",
     "output_type": "stream",
     "text": [
      "No. \t Student Name \t Grade\n",
      "\n",
      "1 \t Inamul \t\t 100\n",
      "\n",
      "2 \t Alkisah \t\t 100\n",
      "\n"
     ]
    }
   ],
   "source": [
    "fr = open('numan.txt','r')\n",
    "\n",
    "for r in fr:\n",
    "    print(r)\n",
    "\n",
    "fr.close()"
   ]
  },
  {
   "cell_type": "code",
   "execution_count": null,
   "id": "2bb236c1-e17a-4d4c-9991-03e30fa1bcdb",
   "metadata": {},
   "outputs": [],
   "source": []
  }
 ],
 "metadata": {
  "kernelspec": {
   "display_name": "Python 3",
   "language": "python",
   "name": "python3"
  },
  "language_info": {
   "codemirror_mode": {
    "name": "ipython",
    "version": 3
   },
   "file_extension": ".py",
   "mimetype": "text/x-python",
   "name": "python",
   "nbconvert_exporter": "python",
   "pygments_lexer": "ipython3",
   "version": "3.8.8"
  }
 },
 "nbformat": 4,
 "nbformat_minor": 5
}
