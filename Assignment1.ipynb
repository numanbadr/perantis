{
 "cells": [
  {
   "cell_type": "code",
   "execution_count": 29,
   "id": "1696a1cc",
   "metadata": {},
   "outputs": [
    {
     "name": "stdout",
     "output_type": "stream",
     "text": [
      "Nu'man bin Badrud'din       \n",
      "Kampung Parit Patah,      \n",
      "82000 Pontian       \n",
      "Johor\n",
      "\n",
      "17 October 2021\n",
      "\n",
      "Perantis Iskandar       \n",
      "EduCity Iskandar,       \n",
      "79100 Nusajaya,       \n",
      "Johor\n",
      "\n",
      "Assalamualaikum. Hope you are in good health.       \n",
      "My name is Nu'man bin Badrud'din and I am applying for AI Engineer Position at Perantis.\n",
      "\n",
      "As a computational major, I have 3 years of Python and machine learning experience starting since my undergraduate final year project which continues with my Master’s degree while working as a research assistant for 2 years. I am trained in data related field such as machine learning and AI as I recently have obtained the Data Science certificate from The Centre of Applied Data Science (The CADS).\n",
      "\n",
      "While my domain so far has been the use of machine learning in physics research, I am willing to expand and adapt more knowledge and skills towards the application of Python and machine learning in the automation industry.\n",
      "\n",
      "I attach my resume and previous supervisor's recommendation letter with this application letter. I hope my knowledge and skills would be put into your consideration.\n",
      "\n",
      "Thank you.\n"
     ]
    }
   ],
   "source": [
    "# 1. Use Python to write an application letter for job to Perantis\n",
    "\n",
    "print(\"Nu'man bin Badrud'din \\\n",
    "      \\nKampung Parit Patah,\\\n",
    "      \\n82000 Pontian \\\n",
    "      \\nJohor\")\n",
    "\n",
    "print(\"\\n17 October 2021\")\n",
    "\n",
    "print(\"\\nPerantis Iskandar \\\n",
    "      \\nEduCity Iskandar, \\\n",
    "      \\n79100 Nusajaya, \\\n",
    "      \\nJohor\")\n",
    "\n",
    "print(\"\\nAssalamualaikum. Hope you are in good health. \\\n",
    "      \\nMy name is Nu'man bin Badrud'din and I am applying for AI Engineer Position at Perantis.\")\n",
    "\n",
    "print(\"\\nAs a computational major, I have 3 years of Python and machine learning experience starting since my undergraduate final year project which continues with my Master’s degree while working as a research assistant for 2 years.\", end=\" \")\n",
    "print(\"I am trained in data related field such as machine learning and AI as I recently have obtained the Data Science certificate from The Centre of Applied Data Science (The CADS).\")\n",
    "\n",
    "print(\"\\nWhile my domain so far has been the use of machine learning in physics research, I am willing to expand and adapt more knowledge and skills towards the application of Python and machine learning in the automation industry.\")\n",
    "\n",
    "print(\"\\nI attach my resume and previous supervisor's recommendation letter with this application letter. I hope my knowledge and skills would be put into your consideration.\")\n",
    "print(\"\\nThank you.\")"
   ]
  },
  {
   "cell_type": "code",
   "execution_count": 32,
   "id": "54674b89",
   "metadata": {},
   "outputs": [
    {
     "name": "stdout",
     "output_type": "stream",
     "text": [
      "X1 = -0.52\n",
      "X2 = -15.48\n"
     ]
    }
   ],
   "source": [
    "# 2. Solve quadratic equation, if a=2, b=8, c=1.\n",
    "\n",
    "import numpy as np\n",
    "import cmath # For handling complex numbers if persist in calculation\n",
    "\n",
    "# Initialize variables\n",
    "a = 2\n",
    "b = 8\n",
    "c = 1\n",
    "d = (b**2) - (4*a*c) # Discriminant\n",
    "\n",
    "# Quadratic Equation (replace np with cmath if complex number persist in answer)\n",
    "root1 = (-b + np.sqrt(d))/(2*a)\n",
    "root2 = (-b - np.sqrt(d))/(2*a)\n",
    "\n",
    "# Print the result\n",
    "print(\"X1 = {:.2f}\".format(root1))\n",
    "print(\"X2 = {:.2f}\".format(root2))\n"
   ]
  },
  {
   "cell_type": "code",
   "execution_count": null,
   "id": "a7b887c2",
   "metadata": {},
   "outputs": [],
   "source": []
  }
 ],
 "metadata": {
  "kernelspec": {
   "display_name": "Python 3",
   "language": "python",
   "name": "python3"
  },
  "language_info": {
   "codemirror_mode": {
    "name": "ipython",
    "version": 3
   },
   "file_extension": ".py",
   "mimetype": "text/x-python",
   "name": "python",
   "nbconvert_exporter": "python",
   "pygments_lexer": "ipython3",
   "version": "3.8.8"
  }
 },
 "nbformat": 4,
 "nbformat_minor": 5
}
