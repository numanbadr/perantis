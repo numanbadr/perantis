{
 "cells": [
  {
   "cell_type": "markdown",
   "id": "6d0cf49b-468f-44bc-87e7-d19c5c896abb",
   "metadata": {},
   "source": [
    "######\n",
    "### Asssignment - Inheritence (Take home since unfinished during class)\n",
    "\n",
    "This Class must be inherited from Student class\n",
    "1. Create a class for BSCstudent (it inherit properties of Student class) but it has extra properties:\n",
    "    - Major\n",
    "    - Average\n",
    "    - Set of pass and failed subjects that keeps the name of course and score (could be dictionary) <br>\n",
    "<br>\n",
    "2. Create Methods: <br>\n",
    "- AVG Calculate the average from the scores of subjects taken <br>\n",
    "\n",
    "- RequiredCourses(get the set of courses in the major): The method shows which courses of the major is not taken yet by the student <br>\n",
    "\n",
    "- printInfo(): print all the info of the student\n"
   ]
  },
  {
   "cell_type": "code",
   "execution_count": 4,
   "id": "cb37c29d-07aa-4888-81f4-82d8208563cc",
   "metadata": {},
   "outputs": [
    {
     "name": "stdin",
     "output_type": "stream",
     "text": [
      "\n",
      "Name:  Nu'man\n",
      "Matric No:  123456\n",
      "Enter subjects:  Math Physics Chemistry Bio\n",
      "Math score:  49\n",
      "Physics score:  89.2\n",
      "Chemistry score:  90.5\n",
      "Bio score:  30\n",
      "Major:  Computational\n",
      "Enter upcoming major subjects:  Python OOP Java\n"
     ]
    },
    {
     "name": "stdout",
     "output_type": "stream",
     "text": [
      "\n",
      ">> STUDENT INFO <<\n",
      "\n",
      "Name   \t\t : Nu'man\n",
      "Matric   \t : 123456\n",
      "Subject  \t : Math, Physics, Chemistry, Bio\n",
      "\n",
      ">> BSC STUDENT INFO <<\n",
      "\n",
      "Student major in: Computational\n",
      "\n",
      "Passed subjects:\n",
      "Physics: 89.2\n",
      "Chemistry: 90.5\n",
      "\n",
      "Failed subjects:\n",
      "Math: 49.0\n",
      "Bio: 30.0\n",
      "\n",
      "Average score is: 64.67\n",
      "Major subjects to be taken: Python, OOP, Java\n"
     ]
    },
    {
     "name": "stdin",
     "output_type": "stream",
     "text": [
      "\n",
      "Name:  Ahmad\n",
      "Matric No:  987654\n",
      "Enter subjects:  English Malay\n"
     ]
    },
    {
     "name": "stdout",
     "output_type": "stream",
     "text": [
      "\n",
      ">> STUDENT INFO <<\n",
      "\n",
      "Name   \t\t : Ahmad\n",
      "Matric   \t : 987654\n",
      "Subject  \t : English, Malay\n"
     ]
    }
   ],
   "source": [
    "class Students:\n",
    "    def __init__(self):\n",
    "        self.name = input('\\nName: ')\n",
    "        self.matricno = input('Matric No: ')\n",
    "        self.subjects = [i for i in input('Enter subjects: ').strip().split()]\n",
    "    \n",
    "    def printStudentInfo(self):\n",
    "        print('\\n>> STUDENT INFO <<')\n",
    "        print('\\nName   \\t\\t :', self.name)\n",
    "        print('Matric   \\t :', self.matricno)\n",
    "        print(\"Subject  \\t : {}\".format(', '.join(self.subjects)))\n",
    "\n",
    "\n",
    "class BSCstudents(Students):\n",
    "    def __init__(self):\n",
    "        super().__init__()\n",
    "        \n",
    "        self.PassFail()\n",
    "        self.requiredCourses()\n",
    "        self.avg()\n",
    "        \n",
    "    def PassFail(self):\n",
    "        subject_dict = dict.fromkeys(self.subjects, None)\n",
    "        \n",
    "        subject_score = [float(input(f'{i} score: ')) for i in subject_dict]\n",
    "\n",
    "        self.passed = {i:j for i, j in zip(subject_dict,subject_score) if j>=50}\n",
    "        self.failed = {i:j for i, j in zip(subject_dict,subject_score) if j<50}\n",
    "        \n",
    "        \n",
    "    def avg(self):\n",
    "        self.sum_score = sum([float(i) for i in self.passed.values()] + [float(i) for i in self.failed.values()])\n",
    "        self.avg_score = self.sum_score/(len(self.passed.values()) + len(self.failed.values()))   \n",
    "    \n",
    "    def requiredCourses(self):\n",
    "        self.major = input('Major: ')\n",
    "        self.major_courses = [i for i in input('Enter upcoming major subjects: ').strip().split()] # Strip remove leading and trailing empty space, Split splits the string into list element\n",
    "      \n",
    "    def printBSCInfo(self):\n",
    "        super().printStudentInfo()\n",
    "        \n",
    "        print('\\n>> BSC STUDENT INFO <<\\n')\n",
    "        \n",
    "        print('Student major in:', self.major)\n",
    "        \n",
    "        print('\\nPassed subjects:')\n",
    "        for x in self.passed:\n",
    "            print(f'{x}: {self.passed[x]}')\n",
    "    \n",
    "        print('\\nFailed subjects:')\n",
    "        for x in self.failed:\n",
    "            print(f'{x}: {self.failed[x]}')\n",
    "            \n",
    "        print(f'\\nAverage score is: {self.avg_score:.2f}')\n",
    "        \n",
    "        print('Major subjects to be taken:', ', '.join(self.major_courses)) \n",
    "        \n",
    "\n",
    "S1 = BSCstudents()\n",
    "S1.printBSCInfo()\n",
    "\n",
    "# S2 = Students()\n",
    "# S2.printStudentInfo()"
   ]
  },
  {
   "cell_type": "markdown",
   "id": "d81561a7-ef5a-4736-a3e5-b1df26a8e164",
   "metadata": {
    "tags": []
   },
   "source": [
    "### Assignment - Class (during class)\n",
    "\n",
    "1. Define a class for studens <br>\n",
    "2. The class contains these properties: <br>\n",
    "    i. Name <br>\n",
    "    ii. matricNo <br>\n",
    "    iii. Set of courses they take <br>\n",
    "    \n",
    "3. The class also contains some methods: <br>\n",
    "    i. __init__ method takes the initial properties from the user to be filled. <br>\n",
    "    ii. print method to print all the information of the student in a good format <br>\n",
    "    \n",
    "4. After define the class, make 3 instances objects from the class and fill them with your information and 2 of your friends and print them using the print function of the class."
   ]
  },
  {
   "cell_type": "code",
   "execution_count": 5,
   "id": "9da705bf-29d1-48b6-ac61-7f4bb41f6f4d",
   "metadata": {},
   "outputs": [
    {
     "name": "stdin",
     "output_type": "stream",
     "text": [
      "\n",
      "Name:  Nu'man\n",
      "Matric No:  123456\n",
      "Enter subjects:  Math Physics Bio Chemistry\n",
      "\n",
      "Name:  Ahmad\n",
      "Matric No:  987654\n",
      "Enter subjects:  English Malay\n",
      "\n",
      "Name:  Ali\n",
      "Matric No:  567890\n",
      "Enter subjects:  Ethics Management Business\n"
     ]
    },
    {
     "name": "stdout",
     "output_type": "stream",
     "text": [
      "\n",
      "Name \t : Nu'man\n",
      "Matric \t : 123456\n",
      "Course \t : Math, Physics, Bio, Chemistry\n",
      "\n",
      "Name \t : Ahmad\n",
      "Matric \t : 987654\n",
      "Course \t : English, Malay\n",
      "\n",
      "Name \t : Ali\n",
      "Matric \t : 567890\n",
      "Course \t : Ethics, Management, Business\n"
     ]
    }
   ],
   "source": [
    "class Students:\n",
    "    def __init__(self):\n",
    "        self.name = input('\\nName: ')\n",
    "        self.matricno = input('Matric No: ')\n",
    "        self.course = list(i for i in input('Enter subjects: ').strip().split()) # Strip remove leading and trailing empty space, Split splits the string into list element\n",
    "    \n",
    "    def display(self):\n",
    "        print('\\nName \\t :', self.name)\n",
    "        print('Matric \\t :', self.matricno)\n",
    "        print(\"Course \\t : {}\".format(', '.join(self.course)))\n",
    "\n",
    "S1 = Students()\n",
    "S2 = Students()\n",
    "S3 = Students()\n",
    "\n",
    "S1.display()\n",
    "S2.display()\n",
    "S3.display()"
   ]
  },
  {
   "cell_type": "code",
   "execution_count": null,
   "id": "a1ff7b05-64c1-4639-9924-058f637ac60e",
   "metadata": {},
   "outputs": [],
   "source": []
  }
 ],
 "metadata": {
  "kernelspec": {
   "display_name": "Python 3",
   "language": "python",
   "name": "python3"
  },
  "language_info": {
   "codemirror_mode": {
    "name": "ipython",
    "version": 3
   },
   "file_extension": ".py",
   "mimetype": "text/x-python",
   "name": "python",
   "nbconvert_exporter": "python",
   "pygments_lexer": "ipython3",
   "version": "3.8.8"
  }
 },
 "nbformat": 4,
 "nbformat_minor": 5
}
