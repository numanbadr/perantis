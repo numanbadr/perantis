{
 "cells": [
  {
   "cell_type": "markdown",
   "id": "0363fbb4-2383-497b-aaf8-55460201e3d5",
   "metadata": {},
   "source": [
    "# Assignment\n",
    "\n",
    "1. Create a random array A, using randint seed 2 of shape (6x6).\n",
    "2. Convert the array A, to  an identity matrix $I$.\n",
    "\n",
    "$$\n",
    "I = \n",
    "\\begin{bmatrix}\n",
    "1 & 0 & 0 & 0 & 0 & 0 \\\\\n",
    "0 & 1 & 0 & 0 & 0 & 0 \\\\\n",
    "0 & 0 & 1 & 0 & 0 & 0 \\\\\n",
    "0 & 0 & 0 & 1 & 0 & 0 \\\\\n",
    "0 & 0 & 0 & 0 & 1 & 0 \\\\\n",
    "0 & 0 & 0 & 0 & 0 & 1 \\\\\n",
    "\\end{bmatrix}\n",
    "$$\n",
    "\n",
    "$$\n",
    "A.A^{-1} = A^{-1}.A = I\n",
    "$$"
   ]
  },
  {
   "cell_type": "code",
   "execution_count": 1,
   "id": "44f97b1c-8d95-46a2-8c5f-1ac1b72a7da0",
   "metadata": {},
   "outputs": [
    {
     "name": "stdout",
     "output_type": "stream",
     "text": [
      "I:\n",
      " [[1. 0. 0. 0. 0. 0.]\n",
      " [0. 1. 0. 0. 0. 0.]\n",
      " [0. 0. 1. 0. 0. 0.]\n",
      " [0. 0. 0. 1. 0. 0.]\n",
      " [0. 0. 0. 0. 1. 0.]\n",
      " [0. 0. 0. 0. 0. 1.]]\n",
      "\n",
      "A @ invA:\n",
      " [[1 0 0 0 0 0]\n",
      " [0 1 0 0 0 0]\n",
      " [0 0 1 0 0 0]\n",
      " [0 0 0 1 0 0]\n",
      " [0 0 0 0 1 0]\n",
      " [0 0 0 0 0 1]]\n",
      "\n",
      "invA @ A:\n",
      " [[1 0 0 0 0 0]\n",
      " [0 1 0 0 0 0]\n",
      " [0 0 1 0 0 0]\n",
      " [0 0 0 1 0 0]\n",
      " [0 0 0 0 1 0]\n",
      " [0 0 0 0 0 1]]\n",
      "\n",
      "A @ invA == I:\n",
      " [[ True  True  True  True  True  True]\n",
      " [ True  True  True  True  True  True]\n",
      " [ True  True  True  True  True  True]\n",
      " [ True  True  True  True  True  True]\n",
      " [ True  True  True  True  True  True]\n",
      " [ True  True  True  True  True  True]]\n",
      "\n",
      "invA @ A == I:\n",
      " [[ True  True  True  True  True  True]\n",
      " [ True  True  True  True  True  True]\n",
      " [ True  True  True  True  True  True]\n",
      " [ True  True  True  True  True  True]\n",
      " [ True  True  True  True  True  True]\n",
      " [ True  True  True  True  True  True]]\n"
     ]
    }
   ],
   "source": [
    "import numpy as np\n",
    "\n",
    "# 1. Create a random array A, using randint seed 2 of shape (6x6).\n",
    "np.random.seed(2)\n",
    "\n",
    "I = np.eye(6)\n",
    "A = np.random.randint(1,10, (6,6))\n",
    "\n",
    "# 2. Convert the array A, to an identity matrix I.\n",
    "invA = np.linalg.inv(A) # Inverse A\n",
    "\n",
    "# Dot product A . A-1\n",
    "C = A @ invA\n",
    "C = np.round(C).astype(int) # round up the float & convert to int\n",
    "\n",
    "# Position changed to A-1 . A\n",
    "C2 = invA @ A \n",
    "C2 = np.round(C2).astype(int)\n",
    "\n",
    "print('I:\\n', I)\n",
    "print()\n",
    "print('A @ invA:\\n', C)\n",
    "print()\n",
    "print('invA @ A:\\n', C)\n",
    "print()\n",
    "print('A @ invA == I:\\n', C == I) # Compare A.A-1 with identity matrix\n",
    "print()\n",
    "print('invA @ A == I:\\n', C2 == I) # Compare A-1.A with identity matrix"
   ]
  },
  {
   "cell_type": "code",
   "execution_count": 2,
   "id": "f4e9417c-5d1a-4c78-ab45-4d313196d62c",
   "metadata": {},
   "outputs": [
    {
     "name": "stdout",
     "output_type": "stream",
     "text": [
      "A:\n",
      " [[9 9 7 3 9 8]\n",
      " [3 2 6 5 5 6]\n",
      " [8 4 7 5 4 8]\n",
      " [7 2 4 6 9 5]\n",
      " [7 4 3 1 5 3]\n",
      " [5 2 8 9 3 9]]\n",
      "\n",
      "Inverse A:\n",
      " [[-0.11797753 -0.1011236   0.09430177  0.01163724  0.20987159  0.01203852]\n",
      " [ 0.2247191  -0.23595506 -0.4823435  -0.12760835  0.21589085  0.38523274]\n",
      " [-0.29213483  0.60674157 -0.49438202 -0.42696629  0.95505618  0.21348315]\n",
      " [ 0.04494382 -0.24719101 -0.53932584 -0.01123596  0.31460674  0.50561798]\n",
      " [ 0.01685393  0.15730337  0.04775281  0.12078652 -0.13202247 -0.18539326]\n",
      " [ 0.2247191  -0.23595506  1.0176565   0.37239165 -1.28410915 -0.61476726]]\n"
     ]
    }
   ],
   "source": [
    "print('A:\\n', A)\n",
    "print('\\nInverse A:\\n', invA)"
   ]
  }
 ],
 "metadata": {
  "kernelspec": {
   "display_name": "Python 3",
   "language": "python",
   "name": "python3"
  },
  "language_info": {
   "codemirror_mode": {
    "name": "ipython",
    "version": 3
   },
   "file_extension": ".py",
   "mimetype": "text/x-python",
   "name": "python",
   "nbconvert_exporter": "python",
   "pygments_lexer": "ipython3",
   "version": "3.8.8"
  }
 },
 "nbformat": 4,
 "nbformat_minor": 5
}
