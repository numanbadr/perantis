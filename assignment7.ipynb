{
 "cells": [
  {
   "cell_type": "markdown",
   "id": "5d24d695-2c9d-48bc-8d50-103bfe591445",
   "metadata": {},
   "source": [
    "# Assignment - Index splitting (take home)\n",
    "\n",
    "1. Create an array of shape (100,100,3) of unsigned integer 8 bits filled with random values between 0 to 256.\n",
    "2. Find the values that are less than 30, 50, 100, 250.\n",
    "3. Split the array into 4 parts vertically and horizontally\n",
    "4. Copy array from Question 1 and change the values that are les than 110 to 0 and others to 255\n",
    "5. Hint: Use random seed of 12345"
   ]
  },
  {
   "cell_type": "code",
   "execution_count": 1,
   "id": "19a1fd72-977a-4bb3-a57a-be6ae31d0584",
   "metadata": {},
   "outputs": [],
   "source": [
    "# 1. Create an array of shape (100,100,3) of unsigned integer 8 bits filled with random values between 0 to 256\n",
    "import numpy as np\n",
    "\n",
    "np.random.seed(12345)\n",
    "a = np.random.randint(0, 256, (100, 100, 3), dtype = 'uint8')\n"
   ]
  },
  {
   "cell_type": "code",
   "execution_count": 2,
   "id": "1d30220f-744c-4ede-b980-e8af9fe51b0a",
   "metadata": {},
   "outputs": [
    {
     "name": "stdout",
     "output_type": "stream",
     "text": [
      "Values less than 30:\n",
      " [29  8 21 ...  5 28 24]\n",
      "\n",
      "Values less than 50:\n",
      " [45 29  8 ... 35 24 46]\n",
      "\n",
      "Values less than 100:\n",
      " [81 45 29 ... 75 24 46]\n",
      "\n",
      "Values less than 250:\n",
      " [226  81 237 ... 156 214 199]\n"
     ]
    }
   ],
   "source": [
    "# 2. Find the values that are less than 30, 50, 100, 250.\n",
    "\n",
    "# To print full array in output, change threshold=np.inf. Default is threshold=1000 \n",
    "np.set_printoptions(threshold=1000)\n",
    "\n",
    "a_30 = a < 30\n",
    "print('Values less than 30:\\n', a[a_30])\n",
    "\n",
    "a_50 = a < 50\n",
    "print('\\nValues less than 50:\\n', a[a_50])\n",
    "\n",
    "a_100 = a < 100\n",
    "print('\\nValues less than 100:\\n', a[a_100])\n",
    "\n",
    "a_250 = a < 250\n",
    "print('\\nValues less than 250:\\n', a[a_250])"
   ]
  },
  {
   "cell_type": "code",
   "execution_count": 3,
   "id": "a63e81ac-0a00-4140-9699-1df524c1abb2",
   "metadata": {},
   "outputs": [
    {
     "name": "stdout",
     "output_type": "stream",
     "text": [
      "Array element in horizontaly splitted array: 4\n",
      "Array element in vertically splitted array: 4\n",
      "\n",
      "Array element in horizontaly splitted array: 5\n"
     ]
    }
   ],
   "source": [
    "# 3. Split the array into 4 parts vertically horizontally\n",
    "\n",
    "# .hsplit and .vsplit will return a list containing the splitted array as the list's element\n",
    "a4h = np.hsplit(a,4)\n",
    "print('Array element in horizontaly splitted array:',len(a4h))\n",
    "\n",
    "a4v = np.vsplit(a,4)\n",
    "print('Array element in vertically splitted array:',len(a4h))\n",
    "\n",
    "# If splitted into 5 parts, the array element inside the list will be 5 elements\n",
    "a5h = np.hsplit(a,5)\n",
    "print('\\nArray element in horizontaly splitted array:',len(a5h))"
   ]
  },
  {
   "cell_type": "code",
   "execution_count": 4,
   "id": "cb6b713e-a23a-467e-a514-5ee2cf6b8656",
   "metadata": {},
   "outputs": [
    {
     "name": "stdout",
     "output_type": "stream",
     "text": [
      "[[[255   0 255]\n",
      "  [255 255   0]\n",
      "  [255 255   0]\n",
      "  ...\n",
      "  [255 255 255]\n",
      "  [255 255 255]\n",
      "  [  0   0   0]]\n",
      "\n",
      " [[  0 255 255]\n",
      "  [255   0 255]\n",
      "  [  0 255   0]\n",
      "  ...\n",
      "  [  0 255 255]\n",
      "  [  0 255 255]\n",
      "  [255   0   0]]\n",
      "\n",
      " [[255   0 255]\n",
      "  [  0   0 255]\n",
      "  [  0 255   0]\n",
      "  ...\n",
      "  [  0 255 255]\n",
      "  [255   0   0]\n",
      "  [255 255 255]]\n",
      "\n",
      " ...\n",
      "\n",
      " [[  0 255 255]\n",
      "  [  0 255 255]\n",
      "  [  0   0   0]\n",
      "  ...\n",
      "  [255   0 255]\n",
      "  [  0 255 255]\n",
      "  [255   0   0]]\n",
      "\n",
      " [[255   0 255]\n",
      "  [255   0   0]\n",
      "  [255 255 255]\n",
      "  ...\n",
      "  [255 255   0]\n",
      "  [  0   0 255]\n",
      "  [  0 255 255]]\n",
      "\n",
      " [[255 255   0]\n",
      "  [  0 255   0]\n",
      "  [  0 255 255]\n",
      "  ...\n",
      "  [255 255   0]\n",
      "  [255 255 255]\n",
      "  [255 255 255]]]\n"
     ]
    }
   ],
   "source": [
    "# 4. Copy array from Question 1 and change the values that are less than 110 to 0 and others to 255\n",
    "\n",
    "b = a.copy()\n",
    "\n",
    "# Call numpy.where(condition, x, y) to replace values that meet condition with x, and those that do not with y.\n",
    "b_new = np.where(b < 110, 0, 255) \n",
    "\n",
    "print(b_new)"
   ]
  },
  {
   "cell_type": "code",
   "execution_count": null,
   "id": "4cd47a8d-c662-4622-9187-b0c6fc7edb63",
   "metadata": {},
   "outputs": [],
   "source": []
  }
 ],
 "metadata": {
  "kernelspec": {
   "display_name": "Python 3",
   "language": "python",
   "name": "python3"
  },
  "language_info": {
   "codemirror_mode": {
    "name": "ipython",
    "version": 3
   },
   "file_extension": ".py",
   "mimetype": "text/x-python",
   "name": "python",
   "nbconvert_exporter": "python",
   "pygments_lexer": "ipython3",
   "version": "3.8.8"
  }
 },
 "nbformat": 4,
 "nbformat_minor": 5
}
