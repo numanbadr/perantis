{
 "cells": [
  {
   "cell_type": "markdown",
   "id": "784f88fb-ee54-44e5-ad77-e7cb19000da7",
   "metadata": {},
   "source": [
    "### TAKE HOME ASSIGNMENT - DAY 3\n",
    "\n",
    "1. Get an integer value from user (n). Calculate this series: S = 1+2+...+n <br>\n",
    "2. Print the S result <br>\n",
    "Example: n=4, S=10 (1+2+3+4=10) // n=0, S=0 // n=1, S=1 \n",
    "3. Write this program with both **while** and **for** instructions"
   ]
  },
  {
   "cell_type": "code",
   "execution_count": 1,
   "id": "2a551914-ab8e-4eb8-bbf2-52fcaa64ca99",
   "metadata": {},
   "outputs": [
    {
     "name": "stdin",
     "output_type": "stream",
     "text": [
      "Enter n:  5\n"
     ]
    },
    {
     "name": "stdout",
     "output_type": "stream",
     "text": [
      "S for:  15\n",
      "S while:  15\n"
     ]
    }
   ],
   "source": [
    "# 1. Get integer value from user\n",
    "n = int(input('Enter n: '))\n",
    "ls = []\n",
    "\n",
    "\n",
    "# For loop\n",
    "for i in range(n+1):\n",
    "    ls.append(i)\n",
    "    S = sum(ls)\n",
    "    \n",
    "ls.clear() # Empty the list to be used for while loop\n",
    "\n",
    "\n",
    "# While loop\n",
    "while n>=0:\n",
    "    ls.append(n)\n",
    "    S=sum(ls)\n",
    "    n-=1\n",
    "\n",
    "    \n",
    "# 2. Print the result\n",
    "print(\"S for: \", S)\n",
    "print(\"S while: \", S)"
   ]
  },
  {
   "cell_type": "markdown",
   "id": "c61ec730-7e10-4266-8bbc-0409a5fc4023",
   "metadata": {},
   "source": [
    "### **ASSIGNMENTS DURING CLASS**\n",
    "\n",
    "#### QUESTION 1 - LIST \n",
    "\n",
    "1. Define list of food\n",
    "2. Print the list\n",
    "3. Print from the last item to the first\n",
    "4. Add \"Rice\" to the list\n",
    "5. Index of Rice\n",
    "6. Sort list\n",
    "7. Number of occurance\n",
    "8. Clear the list"
   ]
  },
  {
   "cell_type": "code",
   "execution_count": 2,
   "id": "101b8c88",
   "metadata": {},
   "outputs": [
    {
     "name": "stdout",
     "output_type": "stream",
     "text": [
      "['Pizza', 'Spaghetti', 'Burger', 'Fried chicken']\n"
     ]
    }
   ],
   "source": [
    "# 1. Define list of food\n",
    "food = ['Pizza', 'Spaghetti','Burger', 'Fried chicken']\n",
    "\n",
    "\n",
    "# 2. Print the list\n",
    "print(food)"
   ]
  },
  {
   "cell_type": "code",
   "execution_count": 3,
   "id": "3a85558f-a2fe-4d7e-9f16-4f551021b00b",
   "metadata": {},
   "outputs": [
    {
     "name": "stdout",
     "output_type": "stream",
     "text": [
      "Fried chicken\n",
      "Burger\n",
      "Spaghetti\n",
      "Pizza\n",
      "\n",
      "Fried chicken\n",
      "Burger\n",
      "Spaghetti\n",
      "Pizza\n"
     ]
    }
   ],
   "source": [
    "# 3. Print from the last item to the first\n",
    "for i in reversed(food): print(i)\n",
    "    \n",
    "# Equivalent to:\n",
    "print(f'\\n{food[-1]}\\n{food[-2]}\\n{food[-3]}\\n{food[-4]}')"
   ]
  },
  {
   "cell_type": "code",
   "execution_count": 4,
   "id": "370b97ff-c22e-490c-b671-70ef1286cbc0",
   "metadata": {},
   "outputs": [
    {
     "name": "stdout",
     "output_type": "stream",
     "text": [
      "['Pizza', 'Spaghetti', 'Burger', 'Fried chicken', 'Rice']\n",
      "Rice index:  4\n"
     ]
    }
   ],
   "source": [
    "# 4. Add \"Rice\" to the list\n",
    "food.append('Rice')\n",
    "print(food)\n",
    "\n",
    "\n",
    "# 5. Index of Rice\n",
    "print(\"Rice index: \", food.index('Rice'))"
   ]
  },
  {
   "cell_type": "code",
   "execution_count": 5,
   "id": "346ec908-8239-4352-b49c-96265fc0f4eb",
   "metadata": {},
   "outputs": [
    {
     "name": "stdout",
     "output_type": "stream",
     "text": [
      "['Burger', 'Fried chicken', 'Pizza', 'Rice', 'Spaghetti']\n"
     ]
    }
   ],
   "source": [
    "# 6. Sort list\n",
    "food.sort()\n",
    "print(food)"
   ]
  },
  {
   "cell_type": "code",
   "execution_count": 6,
   "id": "713d72a4-cf54-4601-8a77-1dc5501437a0",
   "metadata": {},
   "outputs": [
    {
     "name": "stdout",
     "output_type": "stream",
     "text": [
      "Burger count:  1\n",
      "Fried chicken count:  1\n",
      "Pizza count:  1\n",
      "Rice count:  1\n",
      "Spaghetti count:  1\n"
     ]
    }
   ],
   "source": [
    "# 7. Number of occurance\n",
    "print(\"Burger count: \", food.count('Burger'))\n",
    "print(\"Fried chicken count: \", food.count('Fried chicken'))\n",
    "print(\"Pizza count: \", food.count('Pizza'))\n",
    "print(\"Rice count: \", food.count('Rice'))\n",
    "print(\"Spaghetti count: \", food.count('Spaghetti'))"
   ]
  },
  {
   "cell_type": "code",
   "execution_count": 7,
   "id": "c728e2a4-156c-4c02-90c8-4402853967ca",
   "metadata": {},
   "outputs": [
    {
     "name": "stdout",
     "output_type": "stream",
     "text": [
      "[]\n"
     ]
    }
   ],
   "source": [
    "# 8. Clear the list\n",
    "food.clear()\n",
    "print(food)"
   ]
  },
  {
   "cell_type": "markdown",
   "id": "4ae8a90a-ba50-420b-8270-2cd2e47dce9f",
   "metadata": {},
   "source": [
    "#### QUESTION 2 - TUPLE & LIST\n",
    "\n",
    "1. Ask the user for siblings name\n",
    "2. Print the tuple"
   ]
  },
  {
   "cell_type": "code",
   "execution_count": 8,
   "id": "1f3c1d6f-789d-4923-9162-1ee46bac7b3f",
   "metadata": {},
   "outputs": [
    {
     "name": "stdin",
     "output_type": "stream",
     "text": [
      "How many siblings do you have? >> 3\n",
      "Enter Sibling Name:  Ali\n",
      "Enter Sibling Name:  Abu\n",
      "Enter Sibling Name:  Ahmad\n"
     ]
    },
    {
     "name": "stdout",
     "output_type": "stream",
     "text": [
      "('Ali', 'Abu', 'Ahmad')\n"
     ]
    }
   ],
   "source": [
    "# Initialize variables\n",
    "sibs_ls = []\n",
    "\n",
    "# Ask user for input limit\n",
    "sibs = int(input(\"How many siblings do you have? >>\"))\n",
    "\n",
    "# Collect names \n",
    "for n in range(sibs):\n",
    "    name = input(\"Enter Sibling Name: \")\n",
    "    sibs_ls.append(name)\n",
    "\n",
    "'''\n",
    "# Alternative:\n",
    "for n in range(sibs):\n",
    "    sibs_ls.append(input(\"Enter Sibling Name: \"))\n",
    "'''\n",
    "    \n",
    "# Convert list to tuple & print\n",
    "sibs_tp = tuple(sibs_ls)\n",
    "print(sibs_tp)"
   ]
  },
  {
   "cell_type": "markdown",
   "id": "915c3f3b-fc32-4660-b16a-a20c35d9d517",
   "metadata": {},
   "source": [
    "#### QUESTION 3 - SETS\n",
    "\n",
    "1. Define a set for all courses in your major (4)\n",
    "2. Define courses that you pass\n",
    "3. Find out which courses you haven't passed yet\n",
    "4. Define a set of all courses you take \n",
    "5. Find out the courses you take previously"
   ]
  },
  {
   "cell_type": "code",
   "execution_count": 9,
   "id": "53d99e75-0211-4c43-998b-4dbdd18ec4fd",
   "metadata": {},
   "outputs": [
    {
     "name": "stdout",
     "output_type": "stream",
     "text": [
      "All subjects: \n",
      " {'Management', 'Philosophy', 'Statistics', 'Optics', 'Calculus', 'Data Analysis', 'Matlab', 'Mechanics', 'Algebra', 'Python', 'Ethics', 'Math Method', 'Electricity'}\n",
      "\n",
      "Subjects not taken yet: \n",
      " {'Statistics', 'Python'}\n",
      "\n",
      "Subjects have taken: \n",
      " {'Management', 'Philosophy', 'Optics', 'Calculus', 'Data Analysis', 'Matlab', 'Mechanics', 'Algebra', 'Ethics', 'Math Method', 'Electricity'}\n"
     ]
    }
   ],
   "source": [
    "# 1. Define a set for all courses in your major (4)\n",
    "# 2. Define courses that you pass\n",
    "# 3. Find out which courses you haven't passed yet\n",
    "\n",
    "major = {'Python', 'Matlab', 'Statistics', 'Electricity'}\n",
    "passed = {'Mechanics', 'Algebra', 'Calculus', 'Data Analysis', 'Optics', 'Matlab'}\n",
    "failed = {'Math Method', 'Electricity'}\n",
    "\n",
    "# Note: Matlab passed in Major, Electricity failed in Major\n",
    "\n",
    "\n",
    "# 4. Define a set of all courses you take \n",
    "# add other taken courses that are not included above\n",
    "other = {'Management', 'Ethics', 'Philosophy'}\n",
    "all_course = major.union(passed, failed, other)\n",
    "print('All subjects: \\n', all_course)\n",
    "\n",
    "\n",
    "# 5. Find out the courses you take previously\n",
    "taken = all_course.difference(passed, failed, other)\n",
    "\n",
    "print('\\nSubjects not taken yet: \\n', taken)\n",
    "print('\\nSubjects have taken: \\n', all_course.difference(taken))"
   ]
  },
  {
   "cell_type": "markdown",
   "id": "c497670f-2d0f-4eff-b3f8-8c573bf9cb99",
   "metadata": {},
   "source": [
    "#### QUESTION 4 - DICTIONARY\n",
    "\n",
    "1. Define a malay/english dict for numbers 0 to 5\n",
    "2. Take out the Malay words you defined in your dictionary\n",
    "3. Define a set of numbers from zero to ten\n",
    "4. Find out which numbers are not defined in your dictionary\n",
    "5. Ask from user input to add them to the dictionary\n"
   ]
  },
  {
   "cell_type": "code",
   "execution_count": 10,
   "id": "6a9aa3be-1194-4912-9443-b55c7eaf1492",
   "metadata": {},
   "outputs": [
    {
     "name": "stdout",
     "output_type": "stream",
     "text": [
      "dict_keys(['satu', 'dua', 'tiga', 'empat', 'lima'])\n",
      "\n",
      "\n",
      "Please translate the missing numbers from the dictionary.\n",
      "The missing numbers are: \n",
      " ['enam', 'tujuh', 'lapan', 'sembilan', 'sepuluh'] \n",
      "\n"
     ]
    },
    {
     "name": "stdin",
     "output_type": "stream",
     "text": [
      "Translate \"enam\" to English:  six\n",
      "Translate \"tujuh\" to English:  seven\n",
      "Translate \"lapan\" to English:  eight\n",
      "Translate \"sembilan\" to English:  nine\n",
      "Translate \"sepuluh\" to English:  ten\n"
     ]
    },
    {
     "name": "stdout",
     "output_type": "stream",
     "text": [
      "\n",
      "Does the new added keys-values matches the full 1-10 dictionary?  True\n"
     ]
    }
   ],
   "source": [
    "# 1. Define a malay/english dict for numbers 0 to 5\n",
    "numbers = dict(satu = 'one', \n",
    "             dua = 'two', \n",
    "             tiga = 'three', \n",
    "             empat = 'four', \n",
    "             lima = 'five')\n",
    "\n",
    "# 2. Take out the Malay words you defined in your dictionary\n",
    "print(numbers.keys())\n",
    "\n",
    "# 3. Define a set of numbers from zero to ten \n",
    "numbers_full = dict(satu = 'one', dua = 'two', tiga = 'three', empat = 'four', lima = 'five',\n",
    "            enam = 'six', tujuh = 'seven', lapan = 'eight', sembilan = 'nine', sepuluh = 'ten')\n",
    "\n",
    "\n",
    "# 4. Find out which numbers are not defined in your dictionary\n",
    "numbers_full_ls = [i for i in numbers_full.keys()]\n",
    "numbers_ls = [i for i in numbers.keys()]\n",
    "missing_ls = [i for i in numbers_full_ls if i not in numbers_ls]\n",
    "\n",
    "\n",
    "# 5. Ask from user input to add them to the dictionary\n",
    "print('\\n\\nPlease translate the missing numbers from the dictionary.')\n",
    "print('The missing numbers are: \\n', missing_ls,'\\n')\n",
    "\n",
    "for i in range (len(missing_ls)):\n",
    "    new_key = missing_ls[i]\n",
    "    new_values = input(f'Translate \"{new_key}\" to English: ')\n",
    "    numbers[new_key] = new_values\n",
    "\n",
    "print('\\nDoes the new added keys-values matches the full 1-10 dictionary? ', numbers==numbers_full)"
   ]
  },
  {
   "cell_type": "code",
   "execution_count": null,
   "id": "40b358fd-77bb-495e-ac02-25f44dbc5d05",
   "metadata": {},
   "outputs": [],
   "source": []
  }
 ],
 "metadata": {
  "kernelspec": {
   "display_name": "Python 3",
   "language": "python",
   "name": "python3"
  },
  "language_info": {
   "codemirror_mode": {
    "name": "ipython",
    "version": 3
   },
   "file_extension": ".py",
   "mimetype": "text/x-python",
   "name": "python",
   "nbconvert_exporter": "python",
   "pygments_lexer": "ipython3",
   "version": "3.8.8"
  }
 },
 "nbformat": 4,
 "nbformat_minor": 5
}
